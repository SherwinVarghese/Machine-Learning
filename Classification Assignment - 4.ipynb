{
  "nbformat": 4,
  "nbformat_minor": 0,
  "metadata": {
    "kernelspec": {
      "display_name": "Python 3",
      "language": "python",
      "name": "python3"
    },
    "language_info": {
      "codemirror_mode": {
        "name": "ipython",
        "version": 3
      },
      "file_extension": ".py",
      "mimetype": "text/x-python",
      "name": "python",
      "nbconvert_exporter": "python",
      "pygments_lexer": "ipython3",
      "version": "3.6.6"
    },
    "colab": {
      "name": "Classification Assignment.ipynb",
      "version": "0.3.2",
      "provenance": [],
      "collapsed_sections": [],
      "include_colab_link": true
    }
  },
  "cells": [
    {
      "cell_type": "markdown",
      "metadata": {
        "id": "view-in-github",
        "colab_type": "text"
      },
      "source": [
        "<a href=\"https://colab.research.google.com/github/SherwinVarghese/Machine-Learning/blob/googlecolab/Classification%20Assignment%20-%204.ipynb\" target=\"_parent\"><img src=\"https://colab.research.google.com/assets/colab-badge.svg\" alt=\"Open In Colab\"/></a>"
      ]
    },
    {
      "cell_type": "markdown",
      "metadata": {
        "collapsed": true,
        "id": "VQVbaXG7GL2_",
        "colab_type": "text"
      },
      "source": [
        "# <center> Assignment #5 Classification\n"
      ]
    },
    {
      "cell_type": "markdown",
      "metadata": {
        "id": "J90sQidyJd06",
        "colab_type": "text"
      },
      "source": [
        "Use the codes from the colab file:https://colab.research.google.com/drive/1JaVMz13ysflcYa5p7O0iiRE2Vaom3lLY#scrollTo=E3wCrLaJ_CAc which was used for teaching you. You can also open your own copy in your drive if you saved one."
      ]
    },
    {
      "cell_type": "markdown",
      "metadata": {
        "id": "pPg3SUeEGL2_",
        "colab_type": "text"
      },
      "source": [
        "Let's start by loading all necessary libraries:"
      ]
    },
    {
      "cell_type": "code",
      "metadata": {
        "id": "ZUXFvTtgGL3B",
        "colab_type": "code",
        "colab": {}
      },
      "source": [
        "%matplotlib inline\n",
        "from matplotlib import pyplot as plt\n",
        "plt.rcParams['figure.figsize'] = (10, 8)\n",
        "import seaborn as sns\n",
        "import numpy as np\n",
        "import pandas as pd\n",
        "from sklearn.preprocessing import LabelEncoder\n",
        "import collections\n",
        "from sklearn.model_selection import GridSearchCV\n",
        "from sklearn import preprocessing\n",
        "from sklearn.tree import DecisionTreeClassifier, export_graphviz\n",
        "from sklearn.ensemble import RandomForestClassifier\n",
        "from sklearn.metrics import accuracy_score\n",
        "#from ipywidgets import Image\n",
        "from io import StringIO\n",
        "import pydotplus #pip install pydotplus\n",
        "from sklearn.metrics import roc_auc_score, classification_report, confusion_matrix\n",
        "from sklearn import tree\n",
        "from IPython.display import display, HTML, Image\n",
        "import random\n",
        "import numpy as np\n",
        "import pandas as pd\n",
        "import os\n",
        "from sklearn.model_selection import train_test_split\n",
        "\n"
      ],
      "execution_count": 0,
      "outputs": []
    },
    {
      "cell_type": "markdown",
      "metadata": {
        "id": "6wBO7fLZGL3H",
        "colab_type": "text"
      },
      "source": [
        "## Part 1. Dare 2 Date\n",
        "\n"
      ]
    },
    {
      "cell_type": "markdown",
      "metadata": {
        "id": "dVNmX2HIGL3I",
        "colab_type": "text"
      },
      "source": [
        "We discussed in the Classification class, how a basic decision tree is made. \n",
        "\n",
        "Below is a problem, that wil test your understanding of the decision trees, and will help you build a solid understanding of the concepts.\n",
        "\n",
        "Always remember, a single decision tree does not yield higher accuracy n validation data and are also unstable, meaning the same decsion tree if we run on the same data, we might end up learning other rules (without setting up the random state).\n",
        "\n",
        "Many performant and State of the Art algorithms like Random forests (discussed in the class) & Gradient boosting are based on Decision trees. That is why knowing how decision trees work is very important.\n",
        "\n"
      ]
    },
    {
      "cell_type": "markdown",
      "metadata": {
        "id": "Ju7b2-7LKnN-",
        "colab_type": "text"
      },
      "source": [
        "### Problem Description\n",
        "\n",
        "<center><img src='https://secure-media1.hotstarext.com/r1/thumbs/PCTV/60/1660/PCTV-1660-hcdl.jpg' width=500></center>\n",
        "\n",
        "<b>Dare 2 Date</b> was a show on Channel V, where two participants were set up by the show's host for a blind date. At the end of the episode, the participants were asked about the date and if they would like to go out with the other participant for a second date.\n",
        "\n",
        "I have prepared a toy dataset that replicates the scenario. Person A is deciding whether they will go on a second date with Person B. It will depend on their looks, eloquence, alcohol consumption, and how much money was spent on the first date:)"
      ]
    },
    {
      "cell_type": "markdown",
      "metadata": {
        "id": "FUS5rtu8GL3L",
        "colab_type": "text"
      },
      "source": [
        "#### Creating the dataset"
      ]
    },
    {
      "cell_type": "code",
      "metadata": {
        "id": "YDi0AUmRGL3P",
        "colab_type": "code",
        "colab": {}
      },
      "source": [
        "features = ['Looks', 'Alcoholic_beverage','Eloquence','Money_spent']"
      ],
      "execution_count": 0,
      "outputs": []
    },
    {
      "cell_type": "code",
      "metadata": {
        "id": "2DAWeDK3QaBo",
        "colab_type": "code",
        "colab": {}
      },
      "source": [
        "import random"
      ],
      "execution_count": 0,
      "outputs": []
    },
    {
      "cell_type": "markdown",
      "metadata": {
        "id": "ZF2KkjBXGL3S",
        "colab_type": "text"
      },
      "source": [
        "#### Training data"
      ]
    },
    {
      "cell_type": "markdown",
      "metadata": {
        "id": "GJ0Zv7dvRfpe",
        "colab_type": "text"
      },
      "source": [
        "The training set is created in a random way, please don't match the data with your Dating experiences and the domain knowledge."
      ]
    },
    {
      "cell_type": "code",
      "metadata": {
        "id": "O0XWX4-7O9rA",
        "colab_type": "code",
        "outputId": "ad7f7ee1-7638-4a54-9822-fb40d02deadb",
        "colab": {
          "base_uri": "https://localhost:8080/",
          "height": 269
        }
      },
      "source": [
        "df_train = {}\n",
        "df_train['Looks'] = ['good', 'good', 'good', 'repulsive',\n",
        "                         'repulsive', 'repulsive', 'good'] \n",
        "df_train['Alcoholic_beverage'] = ['yes', 'yes', 'no', 'no', 'yes', 'yes', 'yes']\n",
        "df_train['Eloquence'] = ['high', 'low', 'low', 'low', 'low',\n",
        "                                   'high', 'high']\n",
        "df_train['Money_spent'] = ['lots', 'little', 'lots', 'little', 'lots',\n",
        "                                  'lots', 'lots']\n",
        "df_train['Will_go'] = [1,0,1,0,0,0,1] #LabelEncoder().fit_transform(['+', '-', '+', '-', '-', '+', '+'])\n",
        "\n",
        "df_train = pd.DataFrame(df_train)\n",
        "df_train\n"
      ],
      "execution_count": 4,
      "outputs": [
        {
          "output_type": "execute_result",
          "data": {
            "text/html": [
              "<div>\n",
              "<style scoped>\n",
              "    .dataframe tbody tr th:only-of-type {\n",
              "        vertical-align: middle;\n",
              "    }\n",
              "\n",
              "    .dataframe tbody tr th {\n",
              "        vertical-align: top;\n",
              "    }\n",
              "\n",
              "    .dataframe thead th {\n",
              "        text-align: right;\n",
              "    }\n",
              "</style>\n",
              "<table border=\"1\" class=\"dataframe\">\n",
              "  <thead>\n",
              "    <tr style=\"text-align: right;\">\n",
              "      <th></th>\n",
              "      <th>Looks</th>\n",
              "      <th>Alcoholic_beverage</th>\n",
              "      <th>Eloquence</th>\n",
              "      <th>Money_spent</th>\n",
              "      <th>Will_go</th>\n",
              "    </tr>\n",
              "  </thead>\n",
              "  <tbody>\n",
              "    <tr>\n",
              "      <th>0</th>\n",
              "      <td>good</td>\n",
              "      <td>yes</td>\n",
              "      <td>high</td>\n",
              "      <td>lots</td>\n",
              "      <td>1</td>\n",
              "    </tr>\n",
              "    <tr>\n",
              "      <th>1</th>\n",
              "      <td>good</td>\n",
              "      <td>yes</td>\n",
              "      <td>low</td>\n",
              "      <td>little</td>\n",
              "      <td>0</td>\n",
              "    </tr>\n",
              "    <tr>\n",
              "      <th>2</th>\n",
              "      <td>good</td>\n",
              "      <td>no</td>\n",
              "      <td>low</td>\n",
              "      <td>lots</td>\n",
              "      <td>1</td>\n",
              "    </tr>\n",
              "    <tr>\n",
              "      <th>3</th>\n",
              "      <td>repulsive</td>\n",
              "      <td>no</td>\n",
              "      <td>low</td>\n",
              "      <td>little</td>\n",
              "      <td>0</td>\n",
              "    </tr>\n",
              "    <tr>\n",
              "      <th>4</th>\n",
              "      <td>repulsive</td>\n",
              "      <td>yes</td>\n",
              "      <td>low</td>\n",
              "      <td>lots</td>\n",
              "      <td>0</td>\n",
              "    </tr>\n",
              "    <tr>\n",
              "      <th>5</th>\n",
              "      <td>repulsive</td>\n",
              "      <td>yes</td>\n",
              "      <td>high</td>\n",
              "      <td>lots</td>\n",
              "      <td>0</td>\n",
              "    </tr>\n",
              "    <tr>\n",
              "      <th>6</th>\n",
              "      <td>good</td>\n",
              "      <td>yes</td>\n",
              "      <td>high</td>\n",
              "      <td>lots</td>\n",
              "      <td>1</td>\n",
              "    </tr>\n",
              "  </tbody>\n",
              "</table>\n",
              "</div>"
            ],
            "text/plain": [
              "       Looks Alcoholic_beverage Eloquence Money_spent  Will_go\n",
              "0       good                yes      high        lots        1\n",
              "1       good                yes       low      little        0\n",
              "2       good                 no       low        lots        1\n",
              "3  repulsive                 no       low      little        0\n",
              "4  repulsive                yes       low        lots        0\n",
              "5  repulsive                yes      high        lots        0\n",
              "6       good                yes      high        lots        1"
            ]
          },
          "metadata": {
            "tags": []
          },
          "execution_count": 4
        }
      ]
    },
    {
      "cell_type": "code",
      "metadata": {
        "id": "8p1Xr4VnT6zw",
        "colab_type": "code",
        "outputId": "219e86b1-6be1-4437-8a20-6da06525f91e",
        "colab": {
          "base_uri": "https://localhost:8080/",
          "height": 69
        }
      },
      "source": [
        "df_train['Will_go'].value_counts()"
      ],
      "execution_count": 5,
      "outputs": [
        {
          "output_type": "execute_result",
          "data": {
            "text/plain": [
              "0    4\n",
              "1    3\n",
              "Name: Will_go, dtype: int64"
            ]
          },
          "metadata": {
            "tags": []
          },
          "execution_count": 5
        }
      ]
    },
    {
      "cell_type": "markdown",
      "metadata": {
        "id": "KOdHmN5eGL3V",
        "colab_type": "text"
      },
      "source": [
        "#### Test data"
      ]
    },
    {
      "cell_type": "code",
      "metadata": {
        "id": "aON245G3GL3W",
        "colab_type": "code",
        "outputId": "f7ff97cf-c283-46ce-a503-392a74eac0e4",
        "colab": {
          "base_uri": "https://localhost:8080/",
          "height": 143
        }
      },
      "source": [
        "df_test = {}\n",
        "df_test['Looks'] = ['good', 'good', 'repulsive'] \n",
        "df_test['Alcoholic_beverage'] = ['no', 'yes', 'yes']\n",
        "df_test['Eloquence'] = ['low', 'high', 'low']\n",
        "df_test['Money_spent'] = ['lots', 'little', 'lots']\n",
        "df_test['Will_go'] = [1,0,0]\n",
        "df_test = pd.DataFrame(df_test)\n",
        "df_test"
      ],
      "execution_count": 6,
      "outputs": [
        {
          "output_type": "execute_result",
          "data": {
            "text/html": [
              "<div>\n",
              "<style scoped>\n",
              "    .dataframe tbody tr th:only-of-type {\n",
              "        vertical-align: middle;\n",
              "    }\n",
              "\n",
              "    .dataframe tbody tr th {\n",
              "        vertical-align: top;\n",
              "    }\n",
              "\n",
              "    .dataframe thead th {\n",
              "        text-align: right;\n",
              "    }\n",
              "</style>\n",
              "<table border=\"1\" class=\"dataframe\">\n",
              "  <thead>\n",
              "    <tr style=\"text-align: right;\">\n",
              "      <th></th>\n",
              "      <th>Looks</th>\n",
              "      <th>Alcoholic_beverage</th>\n",
              "      <th>Eloquence</th>\n",
              "      <th>Money_spent</th>\n",
              "      <th>Will_go</th>\n",
              "    </tr>\n",
              "  </thead>\n",
              "  <tbody>\n",
              "    <tr>\n",
              "      <th>0</th>\n",
              "      <td>good</td>\n",
              "      <td>no</td>\n",
              "      <td>low</td>\n",
              "      <td>lots</td>\n",
              "      <td>1</td>\n",
              "    </tr>\n",
              "    <tr>\n",
              "      <th>1</th>\n",
              "      <td>good</td>\n",
              "      <td>yes</td>\n",
              "      <td>high</td>\n",
              "      <td>little</td>\n",
              "      <td>0</td>\n",
              "    </tr>\n",
              "    <tr>\n",
              "      <th>2</th>\n",
              "      <td>repulsive</td>\n",
              "      <td>yes</td>\n",
              "      <td>low</td>\n",
              "      <td>lots</td>\n",
              "      <td>0</td>\n",
              "    </tr>\n",
              "  </tbody>\n",
              "</table>\n",
              "</div>"
            ],
            "text/plain": [
              "       Looks Alcoholic_beverage Eloquence Money_spent  Will_go\n",
              "0       good                 no       low        lots        1\n",
              "1       good                yes      high      little        0\n",
              "2  repulsive                yes       low        lots        0"
            ]
          },
          "metadata": {
            "tags": []
          },
          "execution_count": 6
        }
      ]
    },
    {
      "cell_type": "markdown",
      "metadata": {
        "id": "z_Pzjq2kGL3j",
        "colab_type": "text"
      },
      "source": [
        "<b>Question 1\\. What is the Gini Impurity of the initial system? By system states, we mean values of the binary feature \"Will_go\" - 0 or 1 - two states in total. </b>\n",
        "\n",
        "Assume df_train and df_test are created from a single dataset by using train_test_spit function as shown in the class"
      ]
    },
    {
      "cell_type": "code",
      "metadata": {
        "id": "5LO5KFxCGL3l",
        "colab_type": "code",
        "colab": {
          "base_uri": "https://localhost:8080/",
          "height": 34
        },
        "outputId": "693af362-b9b8-42f9-9adf-2ba89b7eec00"
      },
      "source": [
        "# you can either write code to calculate the Gini Impurity. 1-p(yes)^2-p(no)^2 or you can use a calculator or pen and paer as you wish\n",
        "#P(Will_go - yes) = 4/10\n",
        "#p(Will_go - no) = 6/10\n",
        "P_will_go_yes = 0.4\n",
        "P_will_go_no = 0.6\n",
        "\n",
        "1 - P_will_go_yes**2 - P_will_go_no**2\n"
      ],
      "execution_count": 11,
      "outputs": [
        {
          "output_type": "execute_result",
          "data": {
            "text/plain": [
              "0.48"
            ]
          },
          "metadata": {
            "tags": []
          },
          "execution_count": 11
        }
      ]
    },
    {
      "cell_type": "markdown",
      "metadata": {
        "id": "4rf_LnvoGL3o",
        "colab_type": "text"
      },
      "source": [
        "<b>Question 2\\. Let's split the entire data (hint: concat of df_train and df_test) by the feature \"Looks\". What is the Gini Impurity $G_1$ of the left group - the one with \"Good Looks\". What is the entropy $G_2$ in the opposite group? What is the Final Gini Impurity $G$ of the split if we consider such a split?"
      ]
    },
    {
      "cell_type": "code",
      "metadata": {
        "id": "X_PgFS3LGL3p",
        "colab_type": "code",
        "colab": {
          "base_uri": "https://localhost:8080/",
          "height": 191
        },
        "outputId": "aa23e918-02ed-4cf9-b9d8-c716005ee31f"
      },
      "source": [
        "# use the steps as we used in the giniSheet to calculate\n",
        "# calculate all the no. of people who have good looks and have will_go = 1, similarly do the rest of the 3 conditions as in gini sheet\n",
        "\n",
        "# to code in python the counts do below. Note: coding in python is not important for this question, its just for learning\n",
        "data = pd.concat([df_train,df_test]) #union of df_train & df_test\n",
        "#count of will_go based on good looks - the left node\n",
        "print(\"the left node count of will_go or not (1 & 0 respectively) when split by looks\")\n",
        "print(data[data[\"Looks\"]==\"good\"][\"Will_go\"].value_counts())\n",
        "#similarly write the code for the right node here\n",
        "print(\"the right node count of will_go or not (1 & 0 respectively) when split by looks\")\n",
        "print(data[data[\"Looks\"]==\"repulsive\"][\"Will_go\"].value_counts())\n",
        "\n",
        "\n",
        "#G1 - Gini Impurity of Left Node\n",
        "P_Looks_good_will_go_yes = 4/6\n",
        "P_Looks_good_will_go_no = 2/6\n",
        "G1 = 1 - P_Looks_good_will_go_yes**2 - P_Looks_good_will_go_no**2\n",
        "print(\"Gini score G1: \", G1)\n",
        "\n",
        "#G2 - Gini impurity of the Right Node\n",
        "P_Looks_reoulsive_will_go_yes = 0\n",
        "P_Looks_good_will_go_no = 4/4\n",
        "G2 = 1 - P_Looks_reoulsive_will_go_yes**2 - P_Looks_good_will_go_no**2\n",
        "print(\"Gini score G2: \", G2)\n",
        "\n",
        "#G - Final Gini impurity of the split - weighted average of G1 and G2.\n",
        "G1_rows = 6\n",
        "G2_rows = 4\n",
        "#G = G1_rows/ (G1_rows + G2_rows) * G1 + G2_rows/ (G1_rows + G2_rows) * G2\n",
        "G = (G1_rows * G1 + G2_rows *G2) / (G1_rows + G2_rows)\n",
        "print(\"Final Gini Impurity G of the split: \",G)"
      ],
      "execution_count": 16,
      "outputs": [
        {
          "output_type": "stream",
          "text": [
            "the left node count of will_go or not (1 & 0 respectively) when split by looks\n",
            "1    4\n",
            "0    2\n",
            "Name: Will_go, dtype: int64\n",
            "the right node count of will_go or not (1 & 0 respectively) when split by looks\n",
            "0    4\n",
            "Name: Will_go, dtype: int64\n",
            "Gini score G1:  0.4444444444444445\n",
            "Gini score G2:  0.0\n",
            "Final Gini Impurity G of the split:  0.2666666666666667\n"
          ],
          "name": "stdout"
        }
      ]
    },
    {
      "cell_type": "markdown",
      "metadata": {
        "id": "KgfBnsexGL3s",
        "colab_type": "text"
      },
      "source": [
        "### Label Encoding"
      ]
    },
    {
      "cell_type": "markdown",
      "metadata": {
        "id": "RRGPtPVxt5hK",
        "colab_type": "text"
      },
      "source": [
        "Label Encode your data"
      ]
    },
    {
      "cell_type": "code",
      "metadata": {
        "id": "4PeF952aqEIl",
        "colab_type": "code",
        "outputId": "eb658d4d-592f-4143-c900-c1881c1bc881",
        "colab": {
          "base_uri": "https://localhost:8080/",
          "height": 225
        }
      },
      "source": [
        "# Label encoding function\n",
        "def labelencode(data,columnname):\n",
        "    data[columnname] = LabelEncoder().fit_transform(data[columnname])\n",
        "\n",
        "# applying the function to each column on train data\n",
        "for i in range(0,len(data.columns)):\n",
        "    labelencode(df_train,data.columns[i])\n",
        "# applying the function to each column on test data\n",
        "for i in range(0,len(data.columns)):\n",
        "    labelencode(df_test,data.columns[i])\n",
        "\n",
        "df_train,df_test\n",
        "\n",
        "#Note: Label encoding should be performed on entire data. Please treat this example as an exception."
      ],
      "execution_count": 0,
      "outputs": [
        {
          "output_type": "execute_result",
          "data": {
            "text/plain": [
              "(   Looks  Alcoholic_beverage  Eloquence  Money_spent  Will_go\n",
              " 0      0                   1          0            1        1\n",
              " 1      0                   1          1            0        0\n",
              " 2      0                   0          1            1        1\n",
              " 3      1                   0          1            0        0\n",
              " 4      1                   1          1            1        0\n",
              " 5      1                   1          0            1        0\n",
              " 6      0                   1          0            1        1,\n",
              "    Looks  Alcoholic_beverage  Eloquence  Money_spent  Will_go\n",
              " 0      0                   0          1            1        1\n",
              " 1      0                   1          0            0        0\n",
              " 2      1                   1          1            1        0)"
            ]
          },
          "metadata": {
            "tags": []
          },
          "execution_count": 68
        }
      ]
    },
    {
      "cell_type": "markdown",
      "metadata": {
        "id": "XYyFbwHFuhQ5",
        "colab_type": "text"
      },
      "source": [
        "<b>Question 3\\. Train a decision tree using random state 42 on the training set. Visualise the decision tree and tell us which feature is the root node.\n",
        "\n",
        "<b>Question 4\\. What is the accuracy of your trained model (which you trained for the previous question )on the test data?"
      ]
    },
    {
      "cell_type": "code",
      "metadata": {
        "id": "BbpHTybrGL3t",
        "colab_type": "code",
        "colab": {}
      },
      "source": [
        "# Enter your code here for both questions above\n",
        "\n",
        "# features to consider for model building\n",
        "\n",
        "# Initialise Decision tree\n",
        "\n",
        "# Fit or train the decision tree for your training set\n",
        "\n",
        "# Make predictions\n",
        "\n",
        "# calculate accuracy\n",
        "\n",
        "# visualise the decision tree"
      ],
      "execution_count": 0,
      "outputs": []
    },
    {
      "cell_type": "markdown",
      "metadata": {
        "id": "JS8GyuxhKG7r",
        "colab_type": "text"
      },
      "source": [
        "-----------------------------------------------------------------------"
      ]
    },
    {
      "cell_type": "markdown",
      "metadata": {
        "id": "SZhPHZwsM6ny",
        "colab_type": "text"
      },
      "source": [
        "<center><img src=\"data:image/jpeg;base64,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\" width =500>"
      ]
    },
    {
      "cell_type": "markdown",
      "metadata": {
        "id": "8_x9lT2FGL4y",
        "colab_type": "text"
      },
      "source": [
        "## Part 2. The \"Adult Income\" dataset"
      ]
    },
    {
      "cell_type": "markdown",
      "metadata": {
        "id": "LvRCxVovGL41",
        "colab_type": "text"
      },
      "source": [
        "### Dataset description:"
      ]
    },
    {
      "cell_type": "markdown",
      "metadata": {
        "id": "seGfbMN3GL5O",
        "colab_type": "text"
      },
      "source": [
        "[Dataset](https://drive.google.com/open?id=1-Hx6mFfxetRPP7Yd0k_e_7biRK4pjwiF). Use this link to add the dataset to your google drive. Mount your drive to get access the dataset using read csv function with proper path.\n",
        "\n",
        "UCI Adult (no need to download it, we have a copy in the course repository): classify people using demographical data - whether they earn more than \\$50,000 per year or not."
      ]
    },
    {
      "cell_type": "markdown",
      "metadata": {
        "id": "Rw_kpZPyGL5Z",
        "colab_type": "text"
      },
      "source": [
        "Feature descriptions:"
      ]
    },
    {
      "cell_type": "markdown",
      "metadata": {
        "id": "ie2GtL6SGL5b",
        "colab_type": "text"
      },
      "source": [
        "- **Age** – continuous feature\n",
        "- **Workclass** –  continuous feature\n",
        "- **fnlwgt** – final weight of object, continuous feature\n",
        "- **Education** –  categorical feature\n",
        "- **Education_Num** – number of years of education, continuous feature\n",
        "- **Martial_Status** –  categorical feature\n",
        "- **Occupation** –  categorical feature\n",
        "- **Relationship** – categorical feature\n",
        "- **Race** – categorical feature\n",
        "- **Sex** – categorical feature\n",
        "- **Capital_Gain** – continuous feature\n",
        "- **Capital_Loss** – continuous feature\n",
        "- **Hours_per_week** – continuous feature\n",
        "- **Country** – categorical feature"
      ]
    },
    {
      "cell_type": "markdown",
      "metadata": {
        "id": "6n7h8vrIGL5d",
        "colab_type": "text"
      },
      "source": [
        "**income** – earnings level, categorical (binary) feature."
      ]
    },
    {
      "cell_type": "markdown",
      "metadata": {
        "id": "8iBYezxGKPVx",
        "colab_type": "text"
      },
      "source": [
        "*ALL the steps for EDA, Cleaning and Preprocessing needs to be run to move with to attempt the questions as cells might be related. This will also give you idea of the entire problem.*"
      ]
    },
    {
      "cell_type": "markdown",
      "metadata": {
        "id": "O0e_l97iGL5d",
        "colab_type": "text"
      },
      "source": [
        "### Reading the data"
      ]
    },
    {
      "cell_type": "code",
      "metadata": {
        "id": "CIuuLYfUiqNf",
        "colab_type": "code",
        "outputId": "1a408699-3860-43e7-dd35-48b2bd49ad17",
        "colab": {
          "base_uri": "https://localhost:8080/",
          "height": 124
        }
      },
      "source": [
        "from google.colab import drive\n",
        "drive.mount('/content/drive')"
      ],
      "execution_count": 0,
      "outputs": [
        {
          "output_type": "stream",
          "text": [
            "Go to this URL in a browser: https://accounts.google.com/o/oauth2/auth?client_id=947318989803-6bn6qk8qdgf4n4g3pfee6491hc0brc4i.apps.googleusercontent.com&redirect_uri=urn%3Aietf%3Awg%3Aoauth%3A2.0%3Aoob&scope=email%20https%3A%2F%2Fwww.googleapis.com%2Fauth%2Fdocs.test%20https%3A%2F%2Fwww.googleapis.com%2Fauth%2Fdrive%20https%3A%2F%2Fwww.googleapis.com%2Fauth%2Fdrive.photos.readonly%20https%3A%2F%2Fwww.googleapis.com%2Fauth%2Fpeopleapi.readonly&response_type=code\n",
            "\n",
            "Enter your authorization code:\n",
            "··········\n",
            "Mounted at /content/drive\n"
          ],
          "name": "stdout"
        }
      ]
    },
    {
      "cell_type": "code",
      "metadata": {
        "id": "rX1PyNnZGL5e",
        "colab_type": "code",
        "colab": {}
      },
      "source": [
        "# change the file path according to where you have added the dataset in your file\n",
        "data = pd.read_csv('/content/drive/My Drive/TechKnow School/adult.csv')"
      ],
      "execution_count": 0,
      "outputs": []
    },
    {
      "cell_type": "code",
      "metadata": {
        "id": "5JeJe1SZkMkO",
        "colab_type": "code",
        "outputId": "82ab96bf-5df2-408b-a502-5524667f998e",
        "colab": {
          "base_uri": "https://localhost:8080/",
          "height": 35
        }
      },
      "source": [
        "data.shape"
      ],
      "execution_count": 0,
      "outputs": [
        {
          "output_type": "execute_result",
          "data": {
            "text/plain": [
              "(48842, 15)"
            ]
          },
          "metadata": {
            "tags": []
          },
          "execution_count": 121
        }
      ]
    },
    {
      "cell_type": "code",
      "metadata": {
        "id": "Ir5BPHTgGL5h",
        "colab_type": "code",
        "outputId": "6a64f1a8-1aa9-4b87-bb10-da57bd3fa9db",
        "colab": {
          "base_uri": "https://localhost:8080/",
          "height": 323
        }
      },
      "source": [
        "data.head()"
      ],
      "execution_count": 0,
      "outputs": [
        {
          "output_type": "execute_result",
          "data": {
            "text/html": [
              "<div>\n",
              "<style scoped>\n",
              "    .dataframe tbody tr th:only-of-type {\n",
              "        vertical-align: middle;\n",
              "    }\n",
              "\n",
              "    .dataframe tbody tr th {\n",
              "        vertical-align: top;\n",
              "    }\n",
              "\n",
              "    .dataframe thead th {\n",
              "        text-align: right;\n",
              "    }\n",
              "</style>\n",
              "<table border=\"1\" class=\"dataframe\">\n",
              "  <thead>\n",
              "    <tr style=\"text-align: right;\">\n",
              "      <th></th>\n",
              "      <th>age</th>\n",
              "      <th>workclass</th>\n",
              "      <th>fnlwgt</th>\n",
              "      <th>education</th>\n",
              "      <th>educational-num</th>\n",
              "      <th>marital-status</th>\n",
              "      <th>occupation</th>\n",
              "      <th>relationship</th>\n",
              "      <th>race</th>\n",
              "      <th>gender</th>\n",
              "      <th>capital-gain</th>\n",
              "      <th>capital-loss</th>\n",
              "      <th>hours-per-week</th>\n",
              "      <th>native-country</th>\n",
              "      <th>income</th>\n",
              "    </tr>\n",
              "  </thead>\n",
              "  <tbody>\n",
              "    <tr>\n",
              "      <th>0</th>\n",
              "      <td>25</td>\n",
              "      <td>Private</td>\n",
              "      <td>226802</td>\n",
              "      <td>11th</td>\n",
              "      <td>7</td>\n",
              "      <td>Never-married</td>\n",
              "      <td>Machine-op-inspct</td>\n",
              "      <td>Own-child</td>\n",
              "      <td>Black</td>\n",
              "      <td>Male</td>\n",
              "      <td>0</td>\n",
              "      <td>0</td>\n",
              "      <td>40</td>\n",
              "      <td>United-States</td>\n",
              "      <td>&lt;=50K</td>\n",
              "    </tr>\n",
              "    <tr>\n",
              "      <th>1</th>\n",
              "      <td>38</td>\n",
              "      <td>Private</td>\n",
              "      <td>89814</td>\n",
              "      <td>HS-grad</td>\n",
              "      <td>9</td>\n",
              "      <td>Married-civ-spouse</td>\n",
              "      <td>Farming-fishing</td>\n",
              "      <td>Husband</td>\n",
              "      <td>White</td>\n",
              "      <td>Male</td>\n",
              "      <td>0</td>\n",
              "      <td>0</td>\n",
              "      <td>50</td>\n",
              "      <td>United-States</td>\n",
              "      <td>&lt;=50K</td>\n",
              "    </tr>\n",
              "    <tr>\n",
              "      <th>2</th>\n",
              "      <td>28</td>\n",
              "      <td>Local-gov</td>\n",
              "      <td>336951</td>\n",
              "      <td>Assoc-acdm</td>\n",
              "      <td>12</td>\n",
              "      <td>Married-civ-spouse</td>\n",
              "      <td>Protective-serv</td>\n",
              "      <td>Husband</td>\n",
              "      <td>White</td>\n",
              "      <td>Male</td>\n",
              "      <td>0</td>\n",
              "      <td>0</td>\n",
              "      <td>40</td>\n",
              "      <td>United-States</td>\n",
              "      <td>&gt;50K</td>\n",
              "    </tr>\n",
              "    <tr>\n",
              "      <th>3</th>\n",
              "      <td>44</td>\n",
              "      <td>Private</td>\n",
              "      <td>160323</td>\n",
              "      <td>Some-college</td>\n",
              "      <td>10</td>\n",
              "      <td>Married-civ-spouse</td>\n",
              "      <td>Machine-op-inspct</td>\n",
              "      <td>Husband</td>\n",
              "      <td>Black</td>\n",
              "      <td>Male</td>\n",
              "      <td>7688</td>\n",
              "      <td>0</td>\n",
              "      <td>40</td>\n",
              "      <td>United-States</td>\n",
              "      <td>&gt;50K</td>\n",
              "    </tr>\n",
              "    <tr>\n",
              "      <th>4</th>\n",
              "      <td>18</td>\n",
              "      <td>?</td>\n",
              "      <td>103497</td>\n",
              "      <td>Some-college</td>\n",
              "      <td>10</td>\n",
              "      <td>Never-married</td>\n",
              "      <td>?</td>\n",
              "      <td>Own-child</td>\n",
              "      <td>White</td>\n",
              "      <td>Female</td>\n",
              "      <td>0</td>\n",
              "      <td>0</td>\n",
              "      <td>30</td>\n",
              "      <td>United-States</td>\n",
              "      <td>&lt;=50K</td>\n",
              "    </tr>\n",
              "  </tbody>\n",
              "</table>\n",
              "</div>"
            ],
            "text/plain": [
              "   age  workclass  fnlwgt  ... hours-per-week  native-country income\n",
              "0   25    Private  226802  ...             40   United-States  <=50K\n",
              "1   38    Private   89814  ...             50   United-States  <=50K\n",
              "2   28  Local-gov  336951  ...             40   United-States   >50K\n",
              "3   44    Private  160323  ...             40   United-States   >50K\n",
              "4   18          ?  103497  ...             30   United-States  <=50K\n",
              "\n",
              "[5 rows x 15 columns]"
            ]
          },
          "metadata": {
            "tags": []
          },
          "execution_count": 110
        }
      ]
    },
    {
      "cell_type": "markdown",
      "metadata": {
        "id": "Rg1gODM6qhVe",
        "colab_type": "text"
      },
      "source": [
        "### Target variable\n"
      ]
    },
    {
      "cell_type": "code",
      "metadata": {
        "id": "mR8Gu4vCGL57",
        "colab_type": "code",
        "colab": {}
      },
      "source": [
        "# encode target variable as integer\n",
        "data.loc[data['income']=='<=50K', 'income'] = 0\n",
        "data.loc[data['income']=='>50K', 'income'] = 1\n",
        "data['income'] = data['income'].astype('int')"
      ],
      "execution_count": 0,
      "outputs": []
    },
    {
      "cell_type": "code",
      "metadata": {
        "id": "niPu8NBmGL6H",
        "colab_type": "code",
        "outputId": "81684e29-a340-4451-a579-18762c2c07b7",
        "colab": {
          "base_uri": "https://localhost:8080/",
          "height": 69
        }
      },
      "source": [
        "data['income'].value_counts() # look at the counts of each of "
      ],
      "execution_count": 0,
      "outputs": [
        {
          "output_type": "execute_result",
          "data": {
            "text/plain": [
              "0    37155\n",
              "1    11687\n",
              "Name: income, dtype: int64"
            ]
          },
          "metadata": {
            "tags": []
          },
          "execution_count": 161
        }
      ]
    },
    {
      "cell_type": "markdown",
      "metadata": {
        "id": "K_lVJh-RGL6B",
        "colab_type": "text"
      },
      "source": [
        "### EDA\n",
        "The EDA is being given to give you an idea of how to do exploratory analysis on the dataset ans some interesting coding techniques as well."
      ]
    },
    {
      "cell_type": "code",
      "metadata": {
        "id": "ifrMsEcWGL6C",
        "colab_type": "code",
        "outputId": "fad1f463-aba1-4778-9e5a-99bb1f8dc202",
        "colab": {
          "base_uri": "https://localhost:8080/",
          "height": 509
        }
      },
      "source": [
        "data.describe(include='all').T # T transposes the table"
      ],
      "execution_count": 0,
      "outputs": [
        {
          "output_type": "execute_result",
          "data": {
            "text/html": [
              "<div>\n",
              "<style scoped>\n",
              "    .dataframe tbody tr th:only-of-type {\n",
              "        vertical-align: middle;\n",
              "    }\n",
              "\n",
              "    .dataframe tbody tr th {\n",
              "        vertical-align: top;\n",
              "    }\n",
              "\n",
              "    .dataframe thead th {\n",
              "        text-align: right;\n",
              "    }\n",
              "</style>\n",
              "<table border=\"1\" class=\"dataframe\">\n",
              "  <thead>\n",
              "    <tr style=\"text-align: right;\">\n",
              "      <th></th>\n",
              "      <th>count</th>\n",
              "      <th>unique</th>\n",
              "      <th>top</th>\n",
              "      <th>freq</th>\n",
              "      <th>mean</th>\n",
              "      <th>std</th>\n",
              "      <th>min</th>\n",
              "      <th>25%</th>\n",
              "      <th>50%</th>\n",
              "      <th>75%</th>\n",
              "      <th>max</th>\n",
              "    </tr>\n",
              "  </thead>\n",
              "  <tbody>\n",
              "    <tr>\n",
              "      <th>age</th>\n",
              "      <td>48842</td>\n",
              "      <td>NaN</td>\n",
              "      <td>NaN</td>\n",
              "      <td>NaN</td>\n",
              "      <td>38.6436</td>\n",
              "      <td>13.7105</td>\n",
              "      <td>17</td>\n",
              "      <td>28</td>\n",
              "      <td>37</td>\n",
              "      <td>48</td>\n",
              "      <td>90</td>\n",
              "    </tr>\n",
              "    <tr>\n",
              "      <th>workclass</th>\n",
              "      <td>48842</td>\n",
              "      <td>9</td>\n",
              "      <td>Private</td>\n",
              "      <td>33906</td>\n",
              "      <td>NaN</td>\n",
              "      <td>NaN</td>\n",
              "      <td>NaN</td>\n",
              "      <td>NaN</td>\n",
              "      <td>NaN</td>\n",
              "      <td>NaN</td>\n",
              "      <td>NaN</td>\n",
              "    </tr>\n",
              "    <tr>\n",
              "      <th>fnlwgt</th>\n",
              "      <td>48842</td>\n",
              "      <td>NaN</td>\n",
              "      <td>NaN</td>\n",
              "      <td>NaN</td>\n",
              "      <td>189664</td>\n",
              "      <td>105604</td>\n",
              "      <td>12285</td>\n",
              "      <td>117550</td>\n",
              "      <td>178144</td>\n",
              "      <td>237642</td>\n",
              "      <td>1.4904e+06</td>\n",
              "    </tr>\n",
              "    <tr>\n",
              "      <th>education</th>\n",
              "      <td>48842</td>\n",
              "      <td>16</td>\n",
              "      <td>HS-grad</td>\n",
              "      <td>15784</td>\n",
              "      <td>NaN</td>\n",
              "      <td>NaN</td>\n",
              "      <td>NaN</td>\n",
              "      <td>NaN</td>\n",
              "      <td>NaN</td>\n",
              "      <td>NaN</td>\n",
              "      <td>NaN</td>\n",
              "    </tr>\n",
              "    <tr>\n",
              "      <th>educational-num</th>\n",
              "      <td>48842</td>\n",
              "      <td>NaN</td>\n",
              "      <td>NaN</td>\n",
              "      <td>NaN</td>\n",
              "      <td>10.0781</td>\n",
              "      <td>2.57097</td>\n",
              "      <td>1</td>\n",
              "      <td>9</td>\n",
              "      <td>10</td>\n",
              "      <td>12</td>\n",
              "      <td>16</td>\n",
              "    </tr>\n",
              "    <tr>\n",
              "      <th>marital-status</th>\n",
              "      <td>48842</td>\n",
              "      <td>7</td>\n",
              "      <td>Married-civ-spouse</td>\n",
              "      <td>22379</td>\n",
              "      <td>NaN</td>\n",
              "      <td>NaN</td>\n",
              "      <td>NaN</td>\n",
              "      <td>NaN</td>\n",
              "      <td>NaN</td>\n",
              "      <td>NaN</td>\n",
              "      <td>NaN</td>\n",
              "    </tr>\n",
              "    <tr>\n",
              "      <th>occupation</th>\n",
              "      <td>48842</td>\n",
              "      <td>15</td>\n",
              "      <td>Prof-specialty</td>\n",
              "      <td>6172</td>\n",
              "      <td>NaN</td>\n",
              "      <td>NaN</td>\n",
              "      <td>NaN</td>\n",
              "      <td>NaN</td>\n",
              "      <td>NaN</td>\n",
              "      <td>NaN</td>\n",
              "      <td>NaN</td>\n",
              "    </tr>\n",
              "    <tr>\n",
              "      <th>relationship</th>\n",
              "      <td>48842</td>\n",
              "      <td>6</td>\n",
              "      <td>Husband</td>\n",
              "      <td>19716</td>\n",
              "      <td>NaN</td>\n",
              "      <td>NaN</td>\n",
              "      <td>NaN</td>\n",
              "      <td>NaN</td>\n",
              "      <td>NaN</td>\n",
              "      <td>NaN</td>\n",
              "      <td>NaN</td>\n",
              "    </tr>\n",
              "    <tr>\n",
              "      <th>race</th>\n",
              "      <td>48842</td>\n",
              "      <td>5</td>\n",
              "      <td>White</td>\n",
              "      <td>41762</td>\n",
              "      <td>NaN</td>\n",
              "      <td>NaN</td>\n",
              "      <td>NaN</td>\n",
              "      <td>NaN</td>\n",
              "      <td>NaN</td>\n",
              "      <td>NaN</td>\n",
              "      <td>NaN</td>\n",
              "    </tr>\n",
              "    <tr>\n",
              "      <th>gender</th>\n",
              "      <td>48842</td>\n",
              "      <td>2</td>\n",
              "      <td>Male</td>\n",
              "      <td>32650</td>\n",
              "      <td>NaN</td>\n",
              "      <td>NaN</td>\n",
              "      <td>NaN</td>\n",
              "      <td>NaN</td>\n",
              "      <td>NaN</td>\n",
              "      <td>NaN</td>\n",
              "      <td>NaN</td>\n",
              "    </tr>\n",
              "    <tr>\n",
              "      <th>capital-gain</th>\n",
              "      <td>48842</td>\n",
              "      <td>NaN</td>\n",
              "      <td>NaN</td>\n",
              "      <td>NaN</td>\n",
              "      <td>1079.07</td>\n",
              "      <td>7452.02</td>\n",
              "      <td>0</td>\n",
              "      <td>0</td>\n",
              "      <td>0</td>\n",
              "      <td>0</td>\n",
              "      <td>99999</td>\n",
              "    </tr>\n",
              "    <tr>\n",
              "      <th>capital-loss</th>\n",
              "      <td>48842</td>\n",
              "      <td>NaN</td>\n",
              "      <td>NaN</td>\n",
              "      <td>NaN</td>\n",
              "      <td>87.5023</td>\n",
              "      <td>403.005</td>\n",
              "      <td>0</td>\n",
              "      <td>0</td>\n",
              "      <td>0</td>\n",
              "      <td>0</td>\n",
              "      <td>4356</td>\n",
              "    </tr>\n",
              "    <tr>\n",
              "      <th>hours-per-week</th>\n",
              "      <td>48842</td>\n",
              "      <td>NaN</td>\n",
              "      <td>NaN</td>\n",
              "      <td>NaN</td>\n",
              "      <td>40.4224</td>\n",
              "      <td>12.3914</td>\n",
              "      <td>1</td>\n",
              "      <td>40</td>\n",
              "      <td>40</td>\n",
              "      <td>45</td>\n",
              "      <td>99</td>\n",
              "    </tr>\n",
              "    <tr>\n",
              "      <th>native-country</th>\n",
              "      <td>48842</td>\n",
              "      <td>42</td>\n",
              "      <td>United-States</td>\n",
              "      <td>43832</td>\n",
              "      <td>NaN</td>\n",
              "      <td>NaN</td>\n",
              "      <td>NaN</td>\n",
              "      <td>NaN</td>\n",
              "      <td>NaN</td>\n",
              "      <td>NaN</td>\n",
              "      <td>NaN</td>\n",
              "    </tr>\n",
              "    <tr>\n",
              "      <th>income</th>\n",
              "      <td>48842</td>\n",
              "      <td>2</td>\n",
              "      <td>&lt;=50K</td>\n",
              "      <td>37155</td>\n",
              "      <td>NaN</td>\n",
              "      <td>NaN</td>\n",
              "      <td>NaN</td>\n",
              "      <td>NaN</td>\n",
              "      <td>NaN</td>\n",
              "      <td>NaN</td>\n",
              "      <td>NaN</td>\n",
              "    </tr>\n",
              "  </tbody>\n",
              "</table>\n",
              "</div>"
            ],
            "text/plain": [
              "                 count unique                 top  ...     50%     75%         max\n",
              "age              48842    NaN                 NaN  ...      37      48          90\n",
              "workclass        48842      9             Private  ...     NaN     NaN         NaN\n",
              "fnlwgt           48842    NaN                 NaN  ...  178144  237642  1.4904e+06\n",
              "education        48842     16             HS-grad  ...     NaN     NaN         NaN\n",
              "educational-num  48842    NaN                 NaN  ...      10      12          16\n",
              "marital-status   48842      7  Married-civ-spouse  ...     NaN     NaN         NaN\n",
              "occupation       48842     15      Prof-specialty  ...     NaN     NaN         NaN\n",
              "relationship     48842      6             Husband  ...     NaN     NaN         NaN\n",
              "race             48842      5               White  ...     NaN     NaN         NaN\n",
              "gender           48842      2                Male  ...     NaN     NaN         NaN\n",
              "capital-gain     48842    NaN                 NaN  ...       0       0       99999\n",
              "capital-loss     48842    NaN                 NaN  ...       0       0        4356\n",
              "hours-per-week   48842    NaN                 NaN  ...      40      45          99\n",
              "native-country   48842     42       United-States  ...     NaN     NaN         NaN\n",
              "income           48842      2               <=50K  ...     NaN     NaN         NaN\n",
              "\n",
              "[15 rows x 11 columns]"
            ]
          },
          "metadata": {
            "tags": []
          },
          "execution_count": 125
        }
      ]
    },
    {
      "cell_type": "code",
      "metadata": {
        "id": "ppHvOY3vGL6M",
        "colab_type": "code",
        "outputId": "43ac4c05-2554-49b3-d777-9793da1b87a9",
        "colab": {
          "base_uri": "https://localhost:8080/",
          "height": 1000
        }
      },
      "source": [
        "fig = plt.figure(figsize=(25, 15))\n",
        "cols = 5\n",
        "rows = np.ceil(float(data.shape[1]) / cols)\n",
        "for i, column in enumerate(data.columns):\n",
        "    ax = fig.add_subplot(rows, cols, i + 1)\n",
        "    ax.set_title(column)\n",
        "    if data.dtypes[column] == np.object:\n",
        "        data[column].value_counts().plot(kind=\"bar\", axes=ax)\n",
        "    else:\n",
        "        data[column].hist(axes=ax)\n",
        "        plt.xticks(rotation=\"vertical\")\n",
        "plt.subplots_adjust(hspace=0.7, wspace=0.2)"
      ],
      "execution_count": 0,
      "outputs": [
        {
          "output_type": "display_data",
          "data": {
            "image/png": "[encoded data removed]",
            "text/plain": [
              "<Figure size 1800x1080 with 15 Axes>"
            ]
          },
          "metadata": {
            "tags": []
          }
        }
      ]
    },
    {
      "cell_type": "markdown",
      "metadata": {
        "id": "_tZjSlGyGL6P",
        "colab_type": "text"
      },
      "source": [
        "#### Checking data types"
      ]
    },
    {
      "cell_type": "code",
      "metadata": {
        "id": "SdG5stJBGL6S",
        "colab_type": "code",
        "outputId": "0b96f299-2040-4e04-cefb-be363bd03676",
        "colab": {
          "base_uri": "https://localhost:8080/",
          "height": 295
        }
      },
      "source": [
        "data.dtypes"
      ],
      "execution_count": 0,
      "outputs": [
        {
          "output_type": "execute_result",
          "data": {
            "text/plain": [
              "age                 int64\n",
              "workclass          object\n",
              "fnlwgt              int64\n",
              "education          object\n",
              "educational-num     int64\n",
              "marital-status     object\n",
              "occupation         object\n",
              "relationship       object\n",
              "race               object\n",
              "gender             object\n",
              "capital-gain        int64\n",
              "capital-loss        int64\n",
              "hours-per-week      int64\n",
              "native-country     object\n",
              "income             object\n",
              "dtype: object"
            ]
          },
          "metadata": {
            "tags": []
          },
          "execution_count": 128
        }
      ]
    },
    {
      "cell_type": "code",
      "metadata": {
        "id": "cxkIWzq2GL6p",
        "colab_type": "code",
        "outputId": "9786107d-299a-418b-fe1e-9bfea08becb1",
        "colab": {
          "base_uri": "https://localhost:8080/",
          "height": 295
        }
      },
      "source": [
        "#Check for misssing values\n",
        "data.isnull().sum()"
      ],
      "execution_count": 0,
      "outputs": [
        {
          "output_type": "execute_result",
          "data": {
            "text/plain": [
              "age                0\n",
              "workclass          0\n",
              "fnlwgt             0\n",
              "education          0\n",
              "educational-num    0\n",
              "marital-status     0\n",
              "occupation         0\n",
              "relationship       0\n",
              "race               0\n",
              "gender             0\n",
              "capital-gain       0\n",
              "capital-loss       0\n",
              "hours-per-week     0\n",
              "native-country     0\n",
              "income             0\n",
              "dtype: int64"
            ]
          },
          "metadata": {
            "tags": []
          },
          "execution_count": 131
        }
      ]
    },
    {
      "cell_type": "markdown",
      "metadata": {
        "id": "VrRBmn_Hm3yw",
        "colab_type": "text"
      },
      "source": [
        "## Preprocessing the data\n",
        "###One hot encoding: \n",
        "Creating a column out of each value of a categorical column or variable."
      ]
    },
    {
      "cell_type": "code",
      "metadata": {
        "id": "bAvfI4OuGL6m",
        "colab_type": "code",
        "outputId": "e457508d-f1a9-46e0-8f57-9a57861828b2",
        "colab": {
          "base_uri": "https://localhost:8080/",
          "height": 52
        }
      },
      "source": [
        "# choose categorical and continuous features from data\n",
        "\n",
        "categorical_columns = [c for c in data.columns \n",
        "                       if data[c].dtype.name == 'object']\n",
        "numerical_columns = [c for c in data.columns \n",
        "                     if data[c].dtype.name != 'object']\n",
        "\n",
        "print('categorical_columns:', categorical_columns)\n",
        "print('numerical_columns:', numerical_columns)"
      ],
      "execution_count": 0,
      "outputs": [
        {
          "output_type": "stream",
          "text": [
            "categorical_columns: ['workclass', 'education', 'marital-status', 'occupation', 'relationship', 'race', 'gender', 'native-country']\n",
            "numerical_columns: ['age', 'fnlwgt', 'educational-num', 'capital-gain', 'capital-loss', 'hours-per-week', 'income']\n"
          ],
          "name": "stdout"
        }
      ]
    },
    {
      "cell_type": "markdown",
      "metadata": {
        "id": "sCbX27zeGL6u",
        "colab_type": "text"
      },
      "source": [
        "We'll dummy code or One hot encode some categorical features: **Workclass**, **Education**, **Martial_Status**, **Occupation**, **Relationship**, **Race**, **Sex**, **Country**. It can be done via pandas method **get_dummies**"
      ]
    },
    {
      "cell_type": "code",
      "metadata": {
        "id": "jOrQo90Rnc0q",
        "colab_type": "code",
        "outputId": "127d2ff4-67b1-43cf-e715-85926e723658",
        "colab": {
          "base_uri": "https://localhost:8080/",
          "height": 286
        }
      },
      "source": [
        "## this how get_dummies will return results\n",
        "pd.get_dummies(data[categorical_columns]).head()"
      ],
      "execution_count": 0,
      "outputs": [
        {
          "output_type": "execute_result",
          "data": {
            "text/html": [
              "<div>\n",
              "<style scoped>\n",
              "    .dataframe tbody tr th:only-of-type {\n",
              "        vertical-align: middle;\n",
              "    }\n",
              "\n",
              "    .dataframe tbody tr th {\n",
              "        vertical-align: top;\n",
              "    }\n",
              "\n",
              "    .dataframe thead th {\n",
              "        text-align: right;\n",
              "    }\n",
              "</style>\n",
              "<table border=\"1\" class=\"dataframe\">\n",
              "  <thead>\n",
              "    <tr style=\"text-align: right;\">\n",
              "      <th></th>\n",
              "      <th>workclass_?</th>\n",
              "      <th>workclass_Federal-gov</th>\n",
              "      <th>workclass_Local-gov</th>\n",
              "      <th>workclass_Never-worked</th>\n",
              "      <th>workclass_Private</th>\n",
              "      <th>workclass_Self-emp-inc</th>\n",
              "      <th>workclass_Self-emp-not-inc</th>\n",
              "      <th>workclass_State-gov</th>\n",
              "      <th>workclass_Without-pay</th>\n",
              "      <th>education_10th</th>\n",
              "      <th>education_11th</th>\n",
              "      <th>education_12th</th>\n",
              "      <th>education_1st-4th</th>\n",
              "      <th>education_5th-6th</th>\n",
              "      <th>education_7th-8th</th>\n",
              "      <th>education_9th</th>\n",
              "      <th>education_Assoc-acdm</th>\n",
              "      <th>education_Assoc-voc</th>\n",
              "      <th>education_Bachelors</th>\n",
              "      <th>education_Doctorate</th>\n",
              "      <th>education_HS-grad</th>\n",
              "      <th>education_Masters</th>\n",
              "      <th>education_Preschool</th>\n",
              "      <th>education_Prof-school</th>\n",
              "      <th>education_Some-college</th>\n",
              "      <th>marital-status_Divorced</th>\n",
              "      <th>marital-status_Married-AF-spouse</th>\n",
              "      <th>marital-status_Married-civ-spouse</th>\n",
              "      <th>marital-status_Married-spouse-absent</th>\n",
              "      <th>marital-status_Never-married</th>\n",
              "      <th>marital-status_Separated</th>\n",
              "      <th>marital-status_Widowed</th>\n",
              "      <th>occupation_?</th>\n",
              "      <th>occupation_Adm-clerical</th>\n",
              "      <th>occupation_Armed-Forces</th>\n",
              "      <th>occupation_Craft-repair</th>\n",
              "      <th>occupation_Exec-managerial</th>\n",
              "      <th>occupation_Farming-fishing</th>\n",
              "      <th>occupation_Handlers-cleaners</th>\n",
              "      <th>occupation_Machine-op-inspct</th>\n",
              "      <th>...</th>\n",
              "      <th>native-country_Columbia</th>\n",
              "      <th>native-country_Cuba</th>\n",
              "      <th>native-country_Dominican-Republic</th>\n",
              "      <th>native-country_Ecuador</th>\n",
              "      <th>native-country_El-Salvador</th>\n",
              "      <th>native-country_England</th>\n",
              "      <th>native-country_France</th>\n",
              "      <th>native-country_Germany</th>\n",
              "      <th>native-country_Greece</th>\n",
              "      <th>native-country_Guatemala</th>\n",
              "      <th>native-country_Haiti</th>\n",
              "      <th>native-country_Holand-Netherlands</th>\n",
              "      <th>native-country_Honduras</th>\n",
              "      <th>native-country_Hong</th>\n",
              "      <th>native-country_Hungary</th>\n",
              "      <th>native-country_India</th>\n",
              "      <th>native-country_Iran</th>\n",
              "      <th>native-country_Ireland</th>\n",
              "      <th>native-country_Italy</th>\n",
              "      <th>native-country_Jamaica</th>\n",
              "      <th>native-country_Japan</th>\n",
              "      <th>native-country_Laos</th>\n",
              "      <th>native-country_Mexico</th>\n",
              "      <th>native-country_Nicaragua</th>\n",
              "      <th>native-country_Outlying-US(Guam-USVI-etc)</th>\n",
              "      <th>native-country_Peru</th>\n",
              "      <th>native-country_Philippines</th>\n",
              "      <th>native-country_Poland</th>\n",
              "      <th>native-country_Portugal</th>\n",
              "      <th>native-country_Puerto-Rico</th>\n",
              "      <th>native-country_Scotland</th>\n",
              "      <th>native-country_South</th>\n",
              "      <th>native-country_Taiwan</th>\n",
              "      <th>native-country_Thailand</th>\n",
              "      <th>native-country_Trinadad&amp;Tobago</th>\n",
              "      <th>native-country_United-States</th>\n",
              "      <th>native-country_Vietnam</th>\n",
              "      <th>native-country_Yugoslavia</th>\n",
              "      <th>income_&lt;=50K</th>\n",
              "      <th>income_&gt;50K</th>\n",
              "    </tr>\n",
              "  </thead>\n",
              "  <tbody>\n",
              "    <tr>\n",
              "      <th>0</th>\n",
              "      <td>0</td>\n",
              "      <td>0</td>\n",
              "      <td>0</td>\n",
              "      <td>0</td>\n",
              "      <td>1</td>\n",
              "      <td>0</td>\n",
              "      <td>0</td>\n",
              "      <td>0</td>\n",
              "      <td>0</td>\n",
              "      <td>0</td>\n",
              "      <td>1</td>\n",
              "      <td>0</td>\n",
              "      <td>0</td>\n",
              "      <td>0</td>\n",
              "      <td>0</td>\n",
              "      <td>0</td>\n",
              "      <td>0</td>\n",
              "      <td>0</td>\n",
              "      <td>0</td>\n",
              "      <td>0</td>\n",
              "      <td>0</td>\n",
              "      <td>0</td>\n",
              "      <td>0</td>\n",
              "      <td>0</td>\n",
              "      <td>0</td>\n",
              "      <td>0</td>\n",
              "      <td>0</td>\n",
              "      <td>0</td>\n",
              "      <td>0</td>\n",
              "      <td>1</td>\n",
              "      <td>0</td>\n",
              "      <td>0</td>\n",
              "      <td>0</td>\n",
              "      <td>0</td>\n",
              "      <td>0</td>\n",
              "      <td>0</td>\n",
              "      <td>0</td>\n",
              "      <td>0</td>\n",
              "      <td>0</td>\n",
              "      <td>1</td>\n",
              "      <td>...</td>\n",
              "      <td>0</td>\n",
              "      <td>0</td>\n",
              "      <td>0</td>\n",
              "      <td>0</td>\n",
              "      <td>0</td>\n",
              "      <td>0</td>\n",
              "      <td>0</td>\n",
              "      <td>0</td>\n",
              "      <td>0</td>\n",
              "      <td>0</td>\n",
              "      <td>0</td>\n",
              "      <td>0</td>\n",
              "      <td>0</td>\n",
              "      <td>0</td>\n",
              "      <td>0</td>\n",
              "      <td>0</td>\n",
              "      <td>0</td>\n",
              "      <td>0</td>\n",
              "      <td>0</td>\n",
              "      <td>0</td>\n",
              "      <td>0</td>\n",
              "      <td>0</td>\n",
              "      <td>0</td>\n",
              "      <td>0</td>\n",
              "      <td>0</td>\n",
              "      <td>0</td>\n",
              "      <td>0</td>\n",
              "      <td>0</td>\n",
              "      <td>0</td>\n",
              "      <td>0</td>\n",
              "      <td>0</td>\n",
              "      <td>0</td>\n",
              "      <td>0</td>\n",
              "      <td>0</td>\n",
              "      <td>0</td>\n",
              "      <td>1</td>\n",
              "      <td>0</td>\n",
              "      <td>0</td>\n",
              "      <td>1</td>\n",
              "      <td>0</td>\n",
              "    </tr>\n",
              "    <tr>\n",
              "      <th>1</th>\n",
              "      <td>0</td>\n",
              "      <td>0</td>\n",
              "      <td>0</td>\n",
              "      <td>0</td>\n",
              "      <td>1</td>\n",
              "      <td>0</td>\n",
              "      <td>0</td>\n",
              "      <td>0</td>\n",
              "      <td>0</td>\n",
              "      <td>0</td>\n",
              "      <td>0</td>\n",
              "      <td>0</td>\n",
              "      <td>0</td>\n",
              "      <td>0</td>\n",
              "      <td>0</td>\n",
              "      <td>0</td>\n",
              "      <td>0</td>\n",
              "      <td>0</td>\n",
              "      <td>0</td>\n",
              "      <td>0</td>\n",
              "      <td>1</td>\n",
              "      <td>0</td>\n",
              "      <td>0</td>\n",
              "      <td>0</td>\n",
              "      <td>0</td>\n",
              "      <td>0</td>\n",
              "      <td>0</td>\n",
              "      <td>1</td>\n",
              "      <td>0</td>\n",
              "      <td>0</td>\n",
              "      <td>0</td>\n",
              "      <td>0</td>\n",
              "      <td>0</td>\n",
              "      <td>0</td>\n",
              "      <td>0</td>\n",
              "      <td>0</td>\n",
              "      <td>0</td>\n",
              "      <td>1</td>\n",
              "      <td>0</td>\n",
              "      <td>0</td>\n",
              "      <td>...</td>\n",
              "      <td>0</td>\n",
              "      <td>0</td>\n",
              "      <td>0</td>\n",
              "      <td>0</td>\n",
              "      <td>0</td>\n",
              "      <td>0</td>\n",
              "      <td>0</td>\n",
              "      <td>0</td>\n",
              "      <td>0</td>\n",
              "      <td>0</td>\n",
              "      <td>0</td>\n",
              "      <td>0</td>\n",
              "      <td>0</td>\n",
              "      <td>0</td>\n",
              "      <td>0</td>\n",
              "      <td>0</td>\n",
              "      <td>0</td>\n",
              "      <td>0</td>\n",
              "      <td>0</td>\n",
              "      <td>0</td>\n",
              "      <td>0</td>\n",
              "      <td>0</td>\n",
              "      <td>0</td>\n",
              "      <td>0</td>\n",
              "      <td>0</td>\n",
              "      <td>0</td>\n",
              "      <td>0</td>\n",
              "      <td>0</td>\n",
              "      <td>0</td>\n",
              "      <td>0</td>\n",
              "      <td>0</td>\n",
              "      <td>0</td>\n",
              "      <td>0</td>\n",
              "      <td>0</td>\n",
              "      <td>0</td>\n",
              "      <td>1</td>\n",
              "      <td>0</td>\n",
              "      <td>0</td>\n",
              "      <td>1</td>\n",
              "      <td>0</td>\n",
              "    </tr>\n",
              "    <tr>\n",
              "      <th>2</th>\n",
              "      <td>0</td>\n",
              "      <td>0</td>\n",
              "      <td>1</td>\n",
              "      <td>0</td>\n",
              "      <td>0</td>\n",
              "      <td>0</td>\n",
              "      <td>0</td>\n",
              "      <td>0</td>\n",
              "      <td>0</td>\n",
              "      <td>0</td>\n",
              "      <td>0</td>\n",
              "      <td>0</td>\n",
              "      <td>0</td>\n",
              "      <td>0</td>\n",
              "      <td>0</td>\n",
              "      <td>0</td>\n",
              "      <td>1</td>\n",
              "      <td>0</td>\n",
              "      <td>0</td>\n",
              "      <td>0</td>\n",
              "      <td>0</td>\n",
              "      <td>0</td>\n",
              "      <td>0</td>\n",
              "      <td>0</td>\n",
              "      <td>0</td>\n",
              "      <td>0</td>\n",
              "      <td>0</td>\n",
              "      <td>1</td>\n",
              "      <td>0</td>\n",
              "      <td>0</td>\n",
              "      <td>0</td>\n",
              "      <td>0</td>\n",
              "      <td>0</td>\n",
              "      <td>0</td>\n",
              "      <td>0</td>\n",
              "      <td>0</td>\n",
              "      <td>0</td>\n",
              "      <td>0</td>\n",
              "      <td>0</td>\n",
              "      <td>0</td>\n",
              "      <td>...</td>\n",
              "      <td>0</td>\n",
              "      <td>0</td>\n",
              "      <td>0</td>\n",
              "      <td>0</td>\n",
              "      <td>0</td>\n",
              "      <td>0</td>\n",
              "      <td>0</td>\n",
              "      <td>0</td>\n",
              "      <td>0</td>\n",
              "      <td>0</td>\n",
              "      <td>0</td>\n",
              "      <td>0</td>\n",
              "      <td>0</td>\n",
              "      <td>0</td>\n",
              "      <td>0</td>\n",
              "      <td>0</td>\n",
              "      <td>0</td>\n",
              "      <td>0</td>\n",
              "      <td>0</td>\n",
              "      <td>0</td>\n",
              "      <td>0</td>\n",
              "      <td>0</td>\n",
              "      <td>0</td>\n",
              "      <td>0</td>\n",
              "      <td>0</td>\n",
              "      <td>0</td>\n",
              "      <td>0</td>\n",
              "      <td>0</td>\n",
              "      <td>0</td>\n",
              "      <td>0</td>\n",
              "      <td>0</td>\n",
              "      <td>0</td>\n",
              "      <td>0</td>\n",
              "      <td>0</td>\n",
              "      <td>0</td>\n",
              "      <td>1</td>\n",
              "      <td>0</td>\n",
              "      <td>0</td>\n",
              "      <td>0</td>\n",
              "      <td>1</td>\n",
              "    </tr>\n",
              "    <tr>\n",
              "      <th>3</th>\n",
              "      <td>0</td>\n",
              "      <td>0</td>\n",
              "      <td>0</td>\n",
              "      <td>0</td>\n",
              "      <td>1</td>\n",
              "      <td>0</td>\n",
              "      <td>0</td>\n",
              "      <td>0</td>\n",
              "      <td>0</td>\n",
              "      <td>0</td>\n",
              "      <td>0</td>\n",
              "      <td>0</td>\n",
              "      <td>0</td>\n",
              "      <td>0</td>\n",
              "      <td>0</td>\n",
              "      <td>0</td>\n",
              "      <td>0</td>\n",
              "      <td>0</td>\n",
              "      <td>0</td>\n",
              "      <td>0</td>\n",
              "      <td>0</td>\n",
              "      <td>0</td>\n",
              "      <td>0</td>\n",
              "      <td>0</td>\n",
              "      <td>1</td>\n",
              "      <td>0</td>\n",
              "      <td>0</td>\n",
              "      <td>1</td>\n",
              "      <td>0</td>\n",
              "      <td>0</td>\n",
              "      <td>0</td>\n",
              "      <td>0</td>\n",
              "      <td>0</td>\n",
              "      <td>0</td>\n",
              "      <td>0</td>\n",
              "      <td>0</td>\n",
              "      <td>0</td>\n",
              "      <td>0</td>\n",
              "      <td>0</td>\n",
              "      <td>1</td>\n",
              "      <td>...</td>\n",
              "      <td>0</td>\n",
              "      <td>0</td>\n",
              "      <td>0</td>\n",
              "      <td>0</td>\n",
              "      <td>0</td>\n",
              "      <td>0</td>\n",
              "      <td>0</td>\n",
              "      <td>0</td>\n",
              "      <td>0</td>\n",
              "      <td>0</td>\n",
              "      <td>0</td>\n",
              "      <td>0</td>\n",
              "      <td>0</td>\n",
              "      <td>0</td>\n",
              "      <td>0</td>\n",
              "      <td>0</td>\n",
              "      <td>0</td>\n",
              "      <td>0</td>\n",
              "      <td>0</td>\n",
              "      <td>0</td>\n",
              "      <td>0</td>\n",
              "      <td>0</td>\n",
              "      <td>0</td>\n",
              "      <td>0</td>\n",
              "      <td>0</td>\n",
              "      <td>0</td>\n",
              "      <td>0</td>\n",
              "      <td>0</td>\n",
              "      <td>0</td>\n",
              "      <td>0</td>\n",
              "      <td>0</td>\n",
              "      <td>0</td>\n",
              "      <td>0</td>\n",
              "      <td>0</td>\n",
              "      <td>0</td>\n",
              "      <td>1</td>\n",
              "      <td>0</td>\n",
              "      <td>0</td>\n",
              "      <td>0</td>\n",
              "      <td>1</td>\n",
              "    </tr>\n",
              "    <tr>\n",
              "      <th>4</th>\n",
              "      <td>1</td>\n",
              "      <td>0</td>\n",
              "      <td>0</td>\n",
              "      <td>0</td>\n",
              "      <td>0</td>\n",
              "      <td>0</td>\n",
              "      <td>0</td>\n",
              "      <td>0</td>\n",
              "      <td>0</td>\n",
              "      <td>0</td>\n",
              "      <td>0</td>\n",
              "      <td>0</td>\n",
              "      <td>0</td>\n",
              "      <td>0</td>\n",
              "      <td>0</td>\n",
              "      <td>0</td>\n",
              "      <td>0</td>\n",
              "      <td>0</td>\n",
              "      <td>0</td>\n",
              "      <td>0</td>\n",
              "      <td>0</td>\n",
              "      <td>0</td>\n",
              "      <td>0</td>\n",
              "      <td>0</td>\n",
              "      <td>1</td>\n",
              "      <td>0</td>\n",
              "      <td>0</td>\n",
              "      <td>0</td>\n",
              "      <td>0</td>\n",
              "      <td>1</td>\n",
              "      <td>0</td>\n",
              "      <td>0</td>\n",
              "      <td>1</td>\n",
              "      <td>0</td>\n",
              "      <td>0</td>\n",
              "      <td>0</td>\n",
              "      <td>0</td>\n",
              "      <td>0</td>\n",
              "      <td>0</td>\n",
              "      <td>0</td>\n",
              "      <td>...</td>\n",
              "      <td>0</td>\n",
              "      <td>0</td>\n",
              "      <td>0</td>\n",
              "      <td>0</td>\n",
              "      <td>0</td>\n",
              "      <td>0</td>\n",
              "      <td>0</td>\n",
              "      <td>0</td>\n",
              "      <td>0</td>\n",
              "      <td>0</td>\n",
              "      <td>0</td>\n",
              "      <td>0</td>\n",
              "      <td>0</td>\n",
              "      <td>0</td>\n",
              "      <td>0</td>\n",
              "      <td>0</td>\n",
              "      <td>0</td>\n",
              "      <td>0</td>\n",
              "      <td>0</td>\n",
              "      <td>0</td>\n",
              "      <td>0</td>\n",
              "      <td>0</td>\n",
              "      <td>0</td>\n",
              "      <td>0</td>\n",
              "      <td>0</td>\n",
              "      <td>0</td>\n",
              "      <td>0</td>\n",
              "      <td>0</td>\n",
              "      <td>0</td>\n",
              "      <td>0</td>\n",
              "      <td>0</td>\n",
              "      <td>0</td>\n",
              "      <td>0</td>\n",
              "      <td>0</td>\n",
              "      <td>0</td>\n",
              "      <td>1</td>\n",
              "      <td>0</td>\n",
              "      <td>0</td>\n",
              "      <td>1</td>\n",
              "      <td>0</td>\n",
              "    </tr>\n",
              "  </tbody>\n",
              "</table>\n",
              "<p>5 rows × 104 columns</p>\n",
              "</div>"
            ],
            "text/plain": [
              "   workclass_?  workclass_Federal-gov  ...  income_<=50K  income_>50K\n",
              "0            0                      0  ...             1            0\n",
              "1            0                      0  ...             1            0\n",
              "2            0                      0  ...             0            1\n",
              "3            0                      0  ...             0            1\n",
              "4            1                      0  ...             1            0\n",
              "\n",
              "[5 rows x 104 columns]"
            ]
          },
          "metadata": {
            "tags": []
          },
          "execution_count": 145
        }
      ]
    },
    {
      "cell_type": "code",
      "metadata": {
        "id": "F-SLfZxTGL6w",
        "colab_type": "code",
        "colab": {}
      },
      "source": [
        "# we will use pd.get_dummies to create one hot encoding for the categorical variables and join them with the numerical columns to form the dataset\n",
        "df = pd.concat([data[numerical_columns],pd.get_dummies(data[categorical_columns])], axis=1)"
      ],
      "execution_count": 0,
      "outputs": []
    },
    {
      "cell_type": "code",
      "metadata": {
        "id": "H3TYc10SopNW",
        "colab_type": "code",
        "outputId": "6eb8e5c7-b9c9-4143-c38e-ab2663686d5e",
        "colab": {
          "base_uri": "https://localhost:8080/",
          "height": 286
        }
      },
      "source": [
        "df.head()"
      ],
      "execution_count": 0,
      "outputs": [
        {
          "output_type": "execute_result",
          "data": {
            "text/html": [
              "<div>\n",
              "<style scoped>\n",
              "    .dataframe tbody tr th:only-of-type {\n",
              "        vertical-align: middle;\n",
              "    }\n",
              "\n",
              "    .dataframe tbody tr th {\n",
              "        vertical-align: top;\n",
              "    }\n",
              "\n",
              "    .dataframe thead th {\n",
              "        text-align: right;\n",
              "    }\n",
              "</style>\n",
              "<table border=\"1\" class=\"dataframe\">\n",
              "  <thead>\n",
              "    <tr style=\"text-align: right;\">\n",
              "      <th></th>\n",
              "      <th>age</th>\n",
              "      <th>fnlwgt</th>\n",
              "      <th>educational-num</th>\n",
              "      <th>capital-gain</th>\n",
              "      <th>capital-loss</th>\n",
              "      <th>hours-per-week</th>\n",
              "      <th>income</th>\n",
              "      <th>workclass_?</th>\n",
              "      <th>workclass_Federal-gov</th>\n",
              "      <th>workclass_Local-gov</th>\n",
              "      <th>workclass_Never-worked</th>\n",
              "      <th>workclass_Private</th>\n",
              "      <th>workclass_Self-emp-inc</th>\n",
              "      <th>workclass_Self-emp-not-inc</th>\n",
              "      <th>workclass_State-gov</th>\n",
              "      <th>workclass_Without-pay</th>\n",
              "      <th>education_10th</th>\n",
              "      <th>education_11th</th>\n",
              "      <th>education_12th</th>\n",
              "      <th>education_1st-4th</th>\n",
              "      <th>education_5th-6th</th>\n",
              "      <th>education_7th-8th</th>\n",
              "      <th>education_9th</th>\n",
              "      <th>education_Assoc-acdm</th>\n",
              "      <th>education_Assoc-voc</th>\n",
              "      <th>education_Bachelors</th>\n",
              "      <th>education_Doctorate</th>\n",
              "      <th>education_HS-grad</th>\n",
              "      <th>education_Masters</th>\n",
              "      <th>education_Preschool</th>\n",
              "      <th>education_Prof-school</th>\n",
              "      <th>education_Some-college</th>\n",
              "      <th>marital-status_Divorced</th>\n",
              "      <th>marital-status_Married-AF-spouse</th>\n",
              "      <th>marital-status_Married-civ-spouse</th>\n",
              "      <th>marital-status_Married-spouse-absent</th>\n",
              "      <th>marital-status_Never-married</th>\n",
              "      <th>marital-status_Separated</th>\n",
              "      <th>marital-status_Widowed</th>\n",
              "      <th>occupation_?</th>\n",
              "      <th>...</th>\n",
              "      <th>native-country_Canada</th>\n",
              "      <th>native-country_China</th>\n",
              "      <th>native-country_Columbia</th>\n",
              "      <th>native-country_Cuba</th>\n",
              "      <th>native-country_Dominican-Republic</th>\n",
              "      <th>native-country_Ecuador</th>\n",
              "      <th>native-country_El-Salvador</th>\n",
              "      <th>native-country_England</th>\n",
              "      <th>native-country_France</th>\n",
              "      <th>native-country_Germany</th>\n",
              "      <th>native-country_Greece</th>\n",
              "      <th>native-country_Guatemala</th>\n",
              "      <th>native-country_Haiti</th>\n",
              "      <th>native-country_Holand-Netherlands</th>\n",
              "      <th>native-country_Honduras</th>\n",
              "      <th>native-country_Hong</th>\n",
              "      <th>native-country_Hungary</th>\n",
              "      <th>native-country_India</th>\n",
              "      <th>native-country_Iran</th>\n",
              "      <th>native-country_Ireland</th>\n",
              "      <th>native-country_Italy</th>\n",
              "      <th>native-country_Jamaica</th>\n",
              "      <th>native-country_Japan</th>\n",
              "      <th>native-country_Laos</th>\n",
              "      <th>native-country_Mexico</th>\n",
              "      <th>native-country_Nicaragua</th>\n",
              "      <th>native-country_Outlying-US(Guam-USVI-etc)</th>\n",
              "      <th>native-country_Peru</th>\n",
              "      <th>native-country_Philippines</th>\n",
              "      <th>native-country_Poland</th>\n",
              "      <th>native-country_Portugal</th>\n",
              "      <th>native-country_Puerto-Rico</th>\n",
              "      <th>native-country_Scotland</th>\n",
              "      <th>native-country_South</th>\n",
              "      <th>native-country_Taiwan</th>\n",
              "      <th>native-country_Thailand</th>\n",
              "      <th>native-country_Trinadad&amp;Tobago</th>\n",
              "      <th>native-country_United-States</th>\n",
              "      <th>native-country_Vietnam</th>\n",
              "      <th>native-country_Yugoslavia</th>\n",
              "    </tr>\n",
              "  </thead>\n",
              "  <tbody>\n",
              "    <tr>\n",
              "      <th>0</th>\n",
              "      <td>25</td>\n",
              "      <td>226802</td>\n",
              "      <td>7</td>\n",
              "      <td>0</td>\n",
              "      <td>0</td>\n",
              "      <td>40</td>\n",
              "      <td>0</td>\n",
              "      <td>0</td>\n",
              "      <td>0</td>\n",
              "      <td>0</td>\n",
              "      <td>0</td>\n",
              "      <td>1</td>\n",
              "      <td>0</td>\n",
              "      <td>0</td>\n",
              "      <td>0</td>\n",
              "      <td>0</td>\n",
              "      <td>0</td>\n",
              "      <td>1</td>\n",
              "      <td>0</td>\n",
              "      <td>0</td>\n",
              "      <td>0</td>\n",
              "      <td>0</td>\n",
              "      <td>0</td>\n",
              "      <td>0</td>\n",
              "      <td>0</td>\n",
              "      <td>0</td>\n",
              "      <td>0</td>\n",
              "      <td>0</td>\n",
              "      <td>0</td>\n",
              "      <td>0</td>\n",
              "      <td>0</td>\n",
              "      <td>0</td>\n",
              "      <td>0</td>\n",
              "      <td>0</td>\n",
              "      <td>0</td>\n",
              "      <td>0</td>\n",
              "      <td>1</td>\n",
              "      <td>0</td>\n",
              "      <td>0</td>\n",
              "      <td>0</td>\n",
              "      <td>...</td>\n",
              "      <td>0</td>\n",
              "      <td>0</td>\n",
              "      <td>0</td>\n",
              "      <td>0</td>\n",
              "      <td>0</td>\n",
              "      <td>0</td>\n",
              "      <td>0</td>\n",
              "      <td>0</td>\n",
              "      <td>0</td>\n",
              "      <td>0</td>\n",
              "      <td>0</td>\n",
              "      <td>0</td>\n",
              "      <td>0</td>\n",
              "      <td>0</td>\n",
              "      <td>0</td>\n",
              "      <td>0</td>\n",
              "      <td>0</td>\n",
              "      <td>0</td>\n",
              "      <td>0</td>\n",
              "      <td>0</td>\n",
              "      <td>0</td>\n",
              "      <td>0</td>\n",
              "      <td>0</td>\n",
              "      <td>0</td>\n",
              "      <td>0</td>\n",
              "      <td>0</td>\n",
              "      <td>0</td>\n",
              "      <td>0</td>\n",
              "      <td>0</td>\n",
              "      <td>0</td>\n",
              "      <td>0</td>\n",
              "      <td>0</td>\n",
              "      <td>0</td>\n",
              "      <td>0</td>\n",
              "      <td>0</td>\n",
              "      <td>0</td>\n",
              "      <td>0</td>\n",
              "      <td>1</td>\n",
              "      <td>0</td>\n",
              "      <td>0</td>\n",
              "    </tr>\n",
              "    <tr>\n",
              "      <th>1</th>\n",
              "      <td>38</td>\n",
              "      <td>89814</td>\n",
              "      <td>9</td>\n",
              "      <td>0</td>\n",
              "      <td>0</td>\n",
              "      <td>50</td>\n",
              "      <td>0</td>\n",
              "      <td>0</td>\n",
              "      <td>0</td>\n",
              "      <td>0</td>\n",
              "      <td>0</td>\n",
              "      <td>1</td>\n",
              "      <td>0</td>\n",
              "      <td>0</td>\n",
              "      <td>0</td>\n",
              "      <td>0</td>\n",
              "      <td>0</td>\n",
              "      <td>0</td>\n",
              "      <td>0</td>\n",
              "      <td>0</td>\n",
              "      <td>0</td>\n",
              "      <td>0</td>\n",
              "      <td>0</td>\n",
              "      <td>0</td>\n",
              "      <td>0</td>\n",
              "      <td>0</td>\n",
              "      <td>0</td>\n",
              "      <td>1</td>\n",
              "      <td>0</td>\n",
              "      <td>0</td>\n",
              "      <td>0</td>\n",
              "      <td>0</td>\n",
              "      <td>0</td>\n",
              "      <td>0</td>\n",
              "      <td>1</td>\n",
              "      <td>0</td>\n",
              "      <td>0</td>\n",
              "      <td>0</td>\n",
              "      <td>0</td>\n",
              "      <td>0</td>\n",
              "      <td>...</td>\n",
              "      <td>0</td>\n",
              "      <td>0</td>\n",
              "      <td>0</td>\n",
              "      <td>0</td>\n",
              "      <td>0</td>\n",
              "      <td>0</td>\n",
              "      <td>0</td>\n",
              "      <td>0</td>\n",
              "      <td>0</td>\n",
              "      <td>0</td>\n",
              "      <td>0</td>\n",
              "      <td>0</td>\n",
              "      <td>0</td>\n",
              "      <td>0</td>\n",
              "      <td>0</td>\n",
              "      <td>0</td>\n",
              "      <td>0</td>\n",
              "      <td>0</td>\n",
              "      <td>0</td>\n",
              "      <td>0</td>\n",
              "      <td>0</td>\n",
              "      <td>0</td>\n",
              "      <td>0</td>\n",
              "      <td>0</td>\n",
              "      <td>0</td>\n",
              "      <td>0</td>\n",
              "      <td>0</td>\n",
              "      <td>0</td>\n",
              "      <td>0</td>\n",
              "      <td>0</td>\n",
              "      <td>0</td>\n",
              "      <td>0</td>\n",
              "      <td>0</td>\n",
              "      <td>0</td>\n",
              "      <td>0</td>\n",
              "      <td>0</td>\n",
              "      <td>0</td>\n",
              "      <td>1</td>\n",
              "      <td>0</td>\n",
              "      <td>0</td>\n",
              "    </tr>\n",
              "    <tr>\n",
              "      <th>2</th>\n",
              "      <td>28</td>\n",
              "      <td>336951</td>\n",
              "      <td>12</td>\n",
              "      <td>0</td>\n",
              "      <td>0</td>\n",
              "      <td>40</td>\n",
              "      <td>1</td>\n",
              "      <td>0</td>\n",
              "      <td>0</td>\n",
              "      <td>1</td>\n",
              "      <td>0</td>\n",
              "      <td>0</td>\n",
              "      <td>0</td>\n",
              "      <td>0</td>\n",
              "      <td>0</td>\n",
              "      <td>0</td>\n",
              "      <td>0</td>\n",
              "      <td>0</td>\n",
              "      <td>0</td>\n",
              "      <td>0</td>\n",
              "      <td>0</td>\n",
              "      <td>0</td>\n",
              "      <td>0</td>\n",
              "      <td>1</td>\n",
              "      <td>0</td>\n",
              "      <td>0</td>\n",
              "      <td>0</td>\n",
              "      <td>0</td>\n",
              "      <td>0</td>\n",
              "      <td>0</td>\n",
              "      <td>0</td>\n",
              "      <td>0</td>\n",
              "      <td>0</td>\n",
              "      <td>0</td>\n",
              "      <td>1</td>\n",
              "      <td>0</td>\n",
              "      <td>0</td>\n",
              "      <td>0</td>\n",
              "      <td>0</td>\n",
              "      <td>0</td>\n",
              "      <td>...</td>\n",
              "      <td>0</td>\n",
              "      <td>0</td>\n",
              "      <td>0</td>\n",
              "      <td>0</td>\n",
              "      <td>0</td>\n",
              "      <td>0</td>\n",
              "      <td>0</td>\n",
              "      <td>0</td>\n",
              "      <td>0</td>\n",
              "      <td>0</td>\n",
              "      <td>0</td>\n",
              "      <td>0</td>\n",
              "      <td>0</td>\n",
              "      <td>0</td>\n",
              "      <td>0</td>\n",
              "      <td>0</td>\n",
              "      <td>0</td>\n",
              "      <td>0</td>\n",
              "      <td>0</td>\n",
              "      <td>0</td>\n",
              "      <td>0</td>\n",
              "      <td>0</td>\n",
              "      <td>0</td>\n",
              "      <td>0</td>\n",
              "      <td>0</td>\n",
              "      <td>0</td>\n",
              "      <td>0</td>\n",
              "      <td>0</td>\n",
              "      <td>0</td>\n",
              "      <td>0</td>\n",
              "      <td>0</td>\n",
              "      <td>0</td>\n",
              "      <td>0</td>\n",
              "      <td>0</td>\n",
              "      <td>0</td>\n",
              "      <td>0</td>\n",
              "      <td>0</td>\n",
              "      <td>1</td>\n",
              "      <td>0</td>\n",
              "      <td>0</td>\n",
              "    </tr>\n",
              "    <tr>\n",
              "      <th>3</th>\n",
              "      <td>44</td>\n",
              "      <td>160323</td>\n",
              "      <td>10</td>\n",
              "      <td>7688</td>\n",
              "      <td>0</td>\n",
              "      <td>40</td>\n",
              "      <td>1</td>\n",
              "      <td>0</td>\n",
              "      <td>0</td>\n",
              "      <td>0</td>\n",
              "      <td>0</td>\n",
              "      <td>1</td>\n",
              "      <td>0</td>\n",
              "      <td>0</td>\n",
              "      <td>0</td>\n",
              "      <td>0</td>\n",
              "      <td>0</td>\n",
              "      <td>0</td>\n",
              "      <td>0</td>\n",
              "      <td>0</td>\n",
              "      <td>0</td>\n",
              "      <td>0</td>\n",
              "      <td>0</td>\n",
              "      <td>0</td>\n",
              "      <td>0</td>\n",
              "      <td>0</td>\n",
              "      <td>0</td>\n",
              "      <td>0</td>\n",
              "      <td>0</td>\n",
              "      <td>0</td>\n",
              "      <td>0</td>\n",
              "      <td>1</td>\n",
              "      <td>0</td>\n",
              "      <td>0</td>\n",
              "      <td>1</td>\n",
              "      <td>0</td>\n",
              "      <td>0</td>\n",
              "      <td>0</td>\n",
              "      <td>0</td>\n",
              "      <td>0</td>\n",
              "      <td>...</td>\n",
              "      <td>0</td>\n",
              "      <td>0</td>\n",
              "      <td>0</td>\n",
              "      <td>0</td>\n",
              "      <td>0</td>\n",
              "      <td>0</td>\n",
              "      <td>0</td>\n",
              "      <td>0</td>\n",
              "      <td>0</td>\n",
              "      <td>0</td>\n",
              "      <td>0</td>\n",
              "      <td>0</td>\n",
              "      <td>0</td>\n",
              "      <td>0</td>\n",
              "      <td>0</td>\n",
              "      <td>0</td>\n",
              "      <td>0</td>\n",
              "      <td>0</td>\n",
              "      <td>0</td>\n",
              "      <td>0</td>\n",
              "      <td>0</td>\n",
              "      <td>0</td>\n",
              "      <td>0</td>\n",
              "      <td>0</td>\n",
              "      <td>0</td>\n",
              "      <td>0</td>\n",
              "      <td>0</td>\n",
              "      <td>0</td>\n",
              "      <td>0</td>\n",
              "      <td>0</td>\n",
              "      <td>0</td>\n",
              "      <td>0</td>\n",
              "      <td>0</td>\n",
              "      <td>0</td>\n",
              "      <td>0</td>\n",
              "      <td>0</td>\n",
              "      <td>0</td>\n",
              "      <td>1</td>\n",
              "      <td>0</td>\n",
              "      <td>0</td>\n",
              "    </tr>\n",
              "    <tr>\n",
              "      <th>4</th>\n",
              "      <td>18</td>\n",
              "      <td>103497</td>\n",
              "      <td>10</td>\n",
              "      <td>0</td>\n",
              "      <td>0</td>\n",
              "      <td>30</td>\n",
              "      <td>0</td>\n",
              "      <td>1</td>\n",
              "      <td>0</td>\n",
              "      <td>0</td>\n",
              "      <td>0</td>\n",
              "      <td>0</td>\n",
              "      <td>0</td>\n",
              "      <td>0</td>\n",
              "      <td>0</td>\n",
              "      <td>0</td>\n",
              "      <td>0</td>\n",
              "      <td>0</td>\n",
              "      <td>0</td>\n",
              "      <td>0</td>\n",
              "      <td>0</td>\n",
              "      <td>0</td>\n",
              "      <td>0</td>\n",
              "      <td>0</td>\n",
              "      <td>0</td>\n",
              "      <td>0</td>\n",
              "      <td>0</td>\n",
              "      <td>0</td>\n",
              "      <td>0</td>\n",
              "      <td>0</td>\n",
              "      <td>0</td>\n",
              "      <td>1</td>\n",
              "      <td>0</td>\n",
              "      <td>0</td>\n",
              "      <td>0</td>\n",
              "      <td>0</td>\n",
              "      <td>1</td>\n",
              "      <td>0</td>\n",
              "      <td>0</td>\n",
              "      <td>1</td>\n",
              "      <td>...</td>\n",
              "      <td>0</td>\n",
              "      <td>0</td>\n",
              "      <td>0</td>\n",
              "      <td>0</td>\n",
              "      <td>0</td>\n",
              "      <td>0</td>\n",
              "      <td>0</td>\n",
              "      <td>0</td>\n",
              "      <td>0</td>\n",
              "      <td>0</td>\n",
              "      <td>0</td>\n",
              "      <td>0</td>\n",
              "      <td>0</td>\n",
              "      <td>0</td>\n",
              "      <td>0</td>\n",
              "      <td>0</td>\n",
              "      <td>0</td>\n",
              "      <td>0</td>\n",
              "      <td>0</td>\n",
              "      <td>0</td>\n",
              "      <td>0</td>\n",
              "      <td>0</td>\n",
              "      <td>0</td>\n",
              "      <td>0</td>\n",
              "      <td>0</td>\n",
              "      <td>0</td>\n",
              "      <td>0</td>\n",
              "      <td>0</td>\n",
              "      <td>0</td>\n",
              "      <td>0</td>\n",
              "      <td>0</td>\n",
              "      <td>0</td>\n",
              "      <td>0</td>\n",
              "      <td>0</td>\n",
              "      <td>0</td>\n",
              "      <td>0</td>\n",
              "      <td>0</td>\n",
              "      <td>1</td>\n",
              "      <td>0</td>\n",
              "      <td>0</td>\n",
              "    </tr>\n",
              "  </tbody>\n",
              "</table>\n",
              "<p>5 rows × 109 columns</p>\n",
              "</div>"
            ],
            "text/plain": [
              "   age  fnlwgt  ...  native-country_Vietnam  native-country_Yugoslavia\n",
              "0   25  226802  ...                       0                          0\n",
              "1   38   89814  ...                       0                          0\n",
              "2   28  336951  ...                       0                          0\n",
              "3   44  160323  ...                       0                          0\n",
              "4   18  103497  ...                       0                          0\n",
              "\n",
              "[5 rows x 109 columns]"
            ]
          },
          "metadata": {
            "tags": []
          },
          "execution_count": 166
        }
      ]
    },
    {
      "cell_type": "markdown",
      "metadata": {
        "colab_type": "text",
        "id": "JF95-ihbpzmn"
      },
      "source": [
        "<b>Question 5. Using the codes you wrote for previous question, use the entire pipeline to create 3 decision trees and calculate the average accuracy from them.\n",
        "This will give you a good practice and help you in understanding different parameters in decision tree.\n",
        "\n",
        "Parameters for the decision tree:\n",
        "1. 1st Decision tree -  random_state = 42\n",
        "2. 2nd Decision tree - random_state = 30\n",
        "3. 3rd Decision tree - random_state = 30, max_depth = 5\n",
        "4. 4th Decision tree - random_state = 30,min_impurity_decrease  = 0.01\n",
        "4. 5th decision tree - random_state = 30, criterion = \"entropy\"\n"
      ]
    },
    {
      "cell_type": "code",
      "metadata": {
        "colab_type": "code",
        "id": "d4mN-Dl8pzmq",
        "colab": {}
      },
      "source": [
        "# code skeleton for the question\n",
        "\n",
        "\n",
        "# splitting the dataset in to train and test, this was not done in the previous question, refer the code shared in class for the code for this\n",
        "# note for spitting the dataset keep test_size =0.3, random state = 42, so that your answers are reporducible and similar to my answers\n",
        "\n",
        "\n",
        "# features to consider for model building\n",
        "\n",
        "# Initialise the 1st Decision tree\n",
        "\n",
        "# Fit or train the decision tree for your training set\n",
        "\n",
        "# Make predictions\n",
        "\n",
        "# calculate accuracy for 1st decsion tree\n",
        "\n",
        "# visualise decision tree (you can visualise for your understanding but not required for the question)\n",
        "\n",
        "# Initialise the 1st Decision tree\n",
        "\n",
        "# Fit or train the decision tree for your training set\n",
        "\n",
        "# Make predictions\n",
        "\n",
        "# calculate accuracy for 1st decsion tree\n",
        "\n",
        "# visualise decision tree (you can visualise for your understanding but not required for the question)\n",
        "\n",
        "\n",
        "#-----------you can enter this code in the next cell----------\n",
        "\n",
        "# Initialise the 2nd Decision tree\n",
        "\n",
        "# Fit or train the decision tree for your training set\n",
        "\n",
        "# Make predictions\n",
        "\n",
        "# calculate accuracy for 2nd decsion tree\n",
        "\n",
        "# visualise decision tree (you can visualise for your understanding but not required for the question)\n",
        "\n",
        "\n",
        "#-----------you can enter this code in the next cell----------\n",
        "\n",
        "# Initialise the 3rd Decision tree\n",
        "\n",
        "# Fit or train the decision tree for your training set\n",
        "\n",
        "# Make predictions\n",
        "\n",
        "# calculate accuracy for 3rd decsion tree\n",
        "\n",
        "# visualise decision tree (you can visualise for your understanding but not required for the question)\n",
        "\n",
        "\n",
        "#-----------you can enter this code in the next cell----------\n",
        "\n",
        "# Initialise the 4thrd Decision tree\n",
        "\n",
        "# Fit or train the decision tree for your training set\n",
        "\n",
        "# Make predictions\n",
        "\n",
        "# calculate accuracy for 4th decsion tree\n",
        "\n",
        "# visualise decision tree (you can visualise for your understanding but not required for the question)\n",
        "\n",
        "#-----------you can enter this code in the next cell----------\n",
        "\n",
        "# Initialise the 5th Decision tree\n",
        "\n",
        "# Fit or train the decision tree for your training set\n",
        "\n",
        "# Make predictions\n",
        "\n",
        "# calculate accuracy for 3rd decsion tree\n",
        "\n",
        "# visualise decision tree (you can visualise for your understanding but not required for the question)\n",
        "\n",
        "\n",
        "\n",
        "# Now you can manually calculate the average of accuracies or write a code to do the same, its upto you\n",
        "\n",
        "\n",
        "\n",
        "\n"
      ],
      "execution_count": 0,
      "outputs": []
    },
    {
      "cell_type": "markdown",
      "metadata": {
        "id": "TIr4NniwxD7n",
        "colab_type": "text"
      },
      "source": [
        "<b> Question 6: Visualise the 3rd Decision tree from previous question. Look at level 3 nodes and identify which node has minimum gini impurity. Select the feature name in this node from the options below. Note: Consider Root node as level 0 nodes, 1st set of internal nodes as level 1 nodes."
      ]
    },
    {
      "cell_type": "code",
      "metadata": {
        "id": "O0A8LLWEKzVn",
        "colab_type": "code",
        "colab": {}
      },
      "source": [
        "# code for visualisation"
      ],
      "execution_count": 0,
      "outputs": []
    },
    {
      "cell_type": "markdown",
      "metadata": {
        "id": "9P_t-j3kGL74",
        "colab_type": "text"
      },
      "source": [
        "<b>Qustion 7: Use grid search with cv=3 and param_grid as shown below (rest parameters as default) and train a decision tree (use DecisionTreeClassifier(random_state=17) to initialise the decision tree) to find the best max_depth for the tree. Use param_grid = {\n",
        "    'max_depth': range(2,11)\n",
        "}"
      ]
    },
    {
      "cell_type": "code",
      "metadata": {
        "id": "t5Y06eDu1Eas",
        "colab_type": "code",
        "colab": {}
      },
      "source": [
        "# code for grid search"
      ],
      "execution_count": 0,
      "outputs": []
    },
    {
      "cell_type": "markdown",
      "metadata": {
        "id": "qR7LFuVCGL8N",
        "colab_type": "text"
      },
      "source": [
        "<b>Question 8: Train a random forest on the training dataset and calculate the accuracy, precision and recall on the test data or validation data. Split your the adult dataset as earlier with random state = 42. Random state for random forest classisier should be 50, number of trees = 100, keeping rest all as default. Print the confusion matrix and tell us the number of TP, FP, FN, TN."
      ]
    },
    {
      "cell_type": "code",
      "metadata": {
        "id": "ocDlh2IgGL8O",
        "colab_type": "code",
        "colab": {}
      },
      "source": [
        "# Initialise Random Forest\n",
        "\n",
        "# Fit on training data\n",
        "\n",
        "# Make predictions\n",
        "\n",
        "# Performance measures\n"
      ],
      "execution_count": 0,
      "outputs": []
    },
    {
      "cell_type": "code",
      "metadata": {
        "id": "KdYdrrYnGL8R",
        "colab_type": "code",
        "colab": {}
      },
      "source": [
        "#tn, fp, fn, tp = \n",
        "#print statements\n"
      ],
      "execution_count": 0,
      "outputs": []
    },
    {
      "cell_type": "markdown",
      "metadata": {
        "id": "YHBl_8tB9Z19",
        "colab_type": "text"
      },
      "source": [
        "<b>Question 9: Use Random search from scikit learn with cv=3 and param_distributions as shown below, random_sate = 42, iter =5 (rest parameters as default) and train a random forest(use RandomForestClassifier(random_state=42) to initialise the Random forest) to find the best estimator. \n",
        "\n",
        "Use param_distributions= {'bootstrap': [True, False],\n",
        " 'max_depth': range(10,100,20),\n",
        " 'min_samples_leaf': [1, 2, 4],\n",
        " 'n_estimators': range(100,1000,200)}.\n",
        "  \n",
        "  \n",
        "  Calculate the % improvement in the accuracy from the best estimator compared to the vanilla random forest model created in previous question.\n",
        "\n",
        "  Refer to the link: https://towardsdatascience.com/hyperparameter-tuning-the-random-forest-in-python-using-scikit-learn-28d2aa77dd74"
      ]
    },
    {
      "cell_type": "code",
      "metadata": {
        "id": "aBKty9cnGL8W",
        "colab_type": "code",
        "colab": {}
      },
      "source": [
        "#RandomizedSearchCV(estimator = rf, param_distributions = param_distributions, n_iter = 5, cv = 3, verbose=2, random_state=42, n_jobs = -1)"
      ],
      "execution_count": 0,
      "outputs": []
    },
    {
      "cell_type": "code",
      "metadata": {
        "id": "022LBB__5uKB",
        "colab_type": "code",
        "colab": {}
      },
      "source": [
        "#use same codes shared in the class to find the accuracy"
      ],
      "execution_count": 0,
      "outputs": []
    },
    {
      "cell_type": "markdown",
      "metadata": {
        "id": "zX7GnOlBMV5w",
        "colab_type": "text"
      },
      "source": [
        "### Your Journey Begins....\n",
        "\n",
        "<center><img src=\"https://media1.tenor.com/images/3e1f9a2cc482719b8cff02ba655f8b10/tenor.gif?itemid=9925719\" width = 700></center>"
      ]
    }
  ]
}