{
  "nbformat": 4,
  "nbformat_minor": 0,
  "metadata": {
    "colab": {
      "name": "Python Intoduction.ipynb",
      "version": "0.3.2",
      "provenance": [],
      "collapsed_sections": [],
      "include_colab_link": true
    },
    "kernelspec": {
      "name": "python3",
      "display_name": "Python 3"
    },
    "accelerator": "GPU"
  },
  "cells": [
    {
      "cell_type": "markdown",
      "metadata": {
        "id": "view-in-github",
        "colab_type": "text"
      },
      "source": [
        "<a href=\"https://colab.research.google.com/github/SherwinVarghese/Machine-Learning/blob/googlecolab/Python_Intoduction.ipynb\" target=\"_parent\"><img src=\"https://colab.research.google.com/assets/colab-badge.svg\" alt=\"Open In Colab\"/></a>"
      ]
    },
    {
      "cell_type": "code",
      "metadata": {
        "id": "S6C-BhFA8QjU",
        "colab_type": "code",
        "outputId": "c4f4cb86-f62e-41ad-9bf7-dfb1f4af08e0",
        "colab": {
          "base_uri": "https://localhost:8080/",
          "height": 89
        }
      },
      "source": [
        "#Get all keywords in Python 3.6\n",
        "\n",
        "import keyword\n",
        "\n",
        "'''\n",
        "\n",
        "block comment\n",
        "\n",
        "'''\n",
        "print(\"Keywords are:\")\n",
        "print(keyword.kwlist)\n",
        "print (\"Total number of keywords: \",len(keyword.kwlist))\n",
        "\n"
      ],
      "execution_count": 0,
      "outputs": [
        {
          "output_type": "stream",
          "text": [
            "Keywords are:\n",
            "['False', 'None', 'True', 'and', 'as', 'assert', 'break', 'class', 'continue', 'def', 'del', 'elif', 'else', 'except', 'finally', 'for', 'from', 'global', 'if', 'import', 'in', 'is', 'lambda', 'nonlocal', 'not', 'or', 'pass', 'raise', 'return', 'try', 'while', 'with', 'yield']\n",
            "Total number of keywords:  33\n"
          ],
          "name": "stdout"
        }
      ]
    },
    {
      "cell_type": "code",
      "metadata": {
        "id": "jEOO0B1z8bdp",
        "colab_type": "code",
        "outputId": "aa5e10a5-3cd2-43fe-a558-fb9a15167482",
        "colab": {
          "base_uri": "https://localhost:8080/",
          "height": 86
        }
      },
      "source": [
        "s = \"This is a string\"\n",
        "\n",
        "print (s[0])\n",
        "print (len(s))\n",
        "#slicing\n",
        "print(s[:3])\n",
        "print(s[5:])"
      ],
      "execution_count": 0,
      "outputs": [
        {
          "output_type": "stream",
          "text": [
            "T\n",
            "16\n",
            "Thi\n",
            "is a string\n"
          ],
          "name": "stdout"
        }
      ]
    },
    {
      "cell_type": "code",
      "metadata": {
        "id": "1MFAX5TB-Wez",
        "colab_type": "code",
        "outputId": "15d480da-555c-40ab-9923-30ea210ee855",
        "colab": {
          "base_uri": "https://localhost:8080/",
          "height": 34
        }
      },
      "source": [
        "#Lists are mutable\n",
        "a = [10, 20.5, \"Hello\"]\n",
        "#Lists are mutable\n",
        "\n",
        "a[1] = 30.7\n",
        "print (a)"
      ],
      "execution_count": 0,
      "outputs": [
        {
          "output_type": "stream",
          "text": [
            "[10, 30.7, 'Hello']\n"
          ],
          "name": "stdout"
        }
      ]
    },
    {
      "cell_type": "code",
      "metadata": {
        "id": "On6ATTbR-wPz",
        "colab_type": "code",
        "outputId": "9a42315f-2aed-4d0b-8443-be19a0c3abf9",
        "colab": {
          "base_uri": "https://localhost:8080/",
          "height": 234
        }
      },
      "source": [
        "#Tuple\n",
        "# Same as list but immutable\n",
        "\n",
        "t =(10, 20.5, \"Hi\")\n",
        "#or t=()\n",
        "\n",
        "t[0] ='Hi'\n",
        "\n",
        "#Tuples are used to read data from a database\n",
        "\n",
        "# Python considers this as a statement\n",
        "t = (1)\n",
        "t = (1+2)\n",
        "\n",
        "t = (1 ,) # t is a tuple"
      ],
      "execution_count": 0,
      "outputs": [
        {
          "output_type": "error",
          "ename": "TypeError",
          "evalue": "ignored",
          "traceback": [
            "\u001b[0;31m---------------------------------------------------------------------------\u001b[0m",
            "\u001b[0;31mTypeError\u001b[0m                                 Traceback (most recent call last)",
            "\u001b[0;32m<ipython-input-35-cba1c0b52a7d>\u001b[0m in \u001b[0;36m<module>\u001b[0;34m()\u001b[0m\n\u001b[1;32m      3\u001b[0m \u001b[0;31m#or t=()\u001b[0m\u001b[0;34m\u001b[0m\u001b[0;34m\u001b[0m\u001b[0;34m\u001b[0m\u001b[0m\n\u001b[1;32m      4\u001b[0m \u001b[0;34m\u001b[0m\u001b[0m\n\u001b[0;32m----> 5\u001b[0;31m \u001b[0mt\u001b[0m\u001b[0;34m[\u001b[0m\u001b[0;36m0\u001b[0m\u001b[0;34m]\u001b[0m \u001b[0;34m=\u001b[0m\u001b[0;34m'Hi'\u001b[0m\u001b[0;34m\u001b[0m\u001b[0;34m\u001b[0m\u001b[0m\n\u001b[0m\u001b[1;32m      6\u001b[0m \u001b[0;34m\u001b[0m\u001b[0m\n\u001b[1;32m      7\u001b[0m \u001b[0;31m#Tuples are used to read data from a database\u001b[0m\u001b[0;34m\u001b[0m\u001b[0;34m\u001b[0m\u001b[0;34m\u001b[0m\u001b[0m\n",
            "\u001b[0;31mTypeError\u001b[0m: 'tuple' object does not support item assignment"
          ]
        }
      ]
    },
    {
      "cell_type": "code",
      "metadata": {
        "id": "sj8_FX0R_CDU",
        "colab_type": "code",
        "outputId": "aa4d2338-3420-4d00-fa4e-3d4b06c9c148",
        "colab": {
          "base_uri": "https://localhost:8080/",
          "height": 52
        }
      },
      "source": [
        "# Set\n",
        "s = {10, 20, 30, 40, 50, 20}\n",
        "# Not mutable\n",
        "\n",
        "#Items in the set are not ordered\n",
        "print (a)\n",
        "print(type(a))"
      ],
      "execution_count": 0,
      "outputs": [
        {
          "output_type": "stream",
          "text": [
            "{40, 10, 50, 20, 30}\n",
            "<class 'set'>\n"
          ],
          "name": "stdout"
        }
      ]
    },
    {
      "cell_type": "code",
      "metadata": {
        "id": "-DYY0PEmAdaI",
        "colab_type": "code",
        "outputId": "6df5e75b-e4ca-428a-f51f-d229570eaa35",
        "colab": {
          "base_uri": "https://localhost:8080/",
          "height": 972
        }
      },
      "source": [
        "# Lists all possible methods that can be executed using the set data type\n",
        "dir(s)\n"
      ],
      "execution_count": 0,
      "outputs": [
        {
          "output_type": "execute_result",
          "data": {
            "text/plain": [
              "['__and__',\n",
              " '__class__',\n",
              " '__contains__',\n",
              " '__delattr__',\n",
              " '__dir__',\n",
              " '__doc__',\n",
              " '__eq__',\n",
              " '__format__',\n",
              " '__ge__',\n",
              " '__getattribute__',\n",
              " '__gt__',\n",
              " '__hash__',\n",
              " '__iand__',\n",
              " '__init__',\n",
              " '__init_subclass__',\n",
              " '__ior__',\n",
              " '__isub__',\n",
              " '__iter__',\n",
              " '__ixor__',\n",
              " '__le__',\n",
              " '__len__',\n",
              " '__lt__',\n",
              " '__ne__',\n",
              " '__new__',\n",
              " '__or__',\n",
              " '__rand__',\n",
              " '__reduce__',\n",
              " '__reduce_ex__',\n",
              " '__repr__',\n",
              " '__ror__',\n",
              " '__rsub__',\n",
              " '__rxor__',\n",
              " '__setattr__',\n",
              " '__sizeof__',\n",
              " '__str__',\n",
              " '__sub__',\n",
              " '__subclasshook__',\n",
              " '__xor__',\n",
              " 'add',\n",
              " 'clear',\n",
              " 'copy',\n",
              " 'difference',\n",
              " 'difference_update',\n",
              " 'discard',\n",
              " 'intersection',\n",
              " 'intersection_update',\n",
              " 'isdisjoint',\n",
              " 'issubset',\n",
              " 'issuperset',\n",
              " 'pop',\n",
              " 'remove',\n",
              " 'symmetric_difference',\n",
              " 'symmetric_difference_update',\n",
              " 'union',\n",
              " 'update']"
            ]
          },
          "metadata": {
            "tags": []
          },
          "execution_count": 24
        }
      ]
    },
    {
      "cell_type": "code",
      "metadata": {
        "id": "uCmhmpaTApXV",
        "colab_type": "code",
        "outputId": "d8bf8ee7-83fc-4744-80f8-c6063f0f28e8",
        "colab": {
          "base_uri": "https://localhost:8080/",
          "height": 1000
        }
      },
      "source": [
        "# adding s\n",
        "s.add(50)\n",
        "print(s)\n",
        "\n",
        "#Help with descriptions for a data type\n",
        "help(s)\n"
      ],
      "execution_count": 0,
      "outputs": [
        {
          "output_type": "stream",
          "text": [
            "{40, 10, 50, 20, 30}\n",
            "Help on set object:\n",
            "\n",
            "class set(object)\n",
            " |  set() -> new empty set object\n",
            " |  set(iterable) -> new set object\n",
            " |  \n",
            " |  Build an unordered collection of unique elements.\n",
            " |  \n",
            " |  Methods defined here:\n",
            " |  \n",
            " |  __and__(self, value, /)\n",
            " |      Return self&value.\n",
            " |  \n",
            " |  __contains__(...)\n",
            " |      x.__contains__(y) <==> y in x.\n",
            " |  \n",
            " |  __eq__(self, value, /)\n",
            " |      Return self==value.\n",
            " |  \n",
            " |  __ge__(self, value, /)\n",
            " |      Return self>=value.\n",
            " |  \n",
            " |  __getattribute__(self, name, /)\n",
            " |      Return getattr(self, name).\n",
            " |  \n",
            " |  __gt__(self, value, /)\n",
            " |      Return self>value.\n",
            " |  \n",
            " |  __iand__(self, value, /)\n",
            " |      Return self&=value.\n",
            " |  \n",
            " |  __init__(self, /, *args, **kwargs)\n",
            " |      Initialize self.  See help(type(self)) for accurate signature.\n",
            " |  \n",
            " |  __ior__(self, value, /)\n",
            " |      Return self|=value.\n",
            " |  \n",
            " |  __isub__(self, value, /)\n",
            " |      Return self-=value.\n",
            " |  \n",
            " |  __iter__(self, /)\n",
            " |      Implement iter(self).\n",
            " |  \n",
            " |  __ixor__(self, value, /)\n",
            " |      Return self^=value.\n",
            " |  \n",
            " |  __le__(self, value, /)\n",
            " |      Return self<=value.\n",
            " |  \n",
            " |  __len__(self, /)\n",
            " |      Return len(self).\n",
            " |  \n",
            " |  __lt__(self, value, /)\n",
            " |      Return self<value.\n",
            " |  \n",
            " |  __ne__(self, value, /)\n",
            " |      Return self!=value.\n",
            " |  \n",
            " |  __new__(*args, **kwargs) from builtins.type\n",
            " |      Create and return a new object.  See help(type) for accurate signature.\n",
            " |  \n",
            " |  __or__(self, value, /)\n",
            " |      Return self|value.\n",
            " |  \n",
            " |  __rand__(self, value, /)\n",
            " |      Return value&self.\n",
            " |  \n",
            " |  __reduce__(...)\n",
            " |      Return state information for pickling.\n",
            " |  \n",
            " |  __repr__(self, /)\n",
            " |      Return repr(self).\n",
            " |  \n",
            " |  __ror__(self, value, /)\n",
            " |      Return value|self.\n",
            " |  \n",
            " |  __rsub__(self, value, /)\n",
            " |      Return value-self.\n",
            " |  \n",
            " |  __rxor__(self, value, /)\n",
            " |      Return value^self.\n",
            " |  \n",
            " |  __sizeof__(...)\n",
            " |      S.__sizeof__() -> size of S in memory, in bytes\n",
            " |  \n",
            " |  __sub__(self, value, /)\n",
            " |      Return self-value.\n",
            " |  \n",
            " |  __xor__(self, value, /)\n",
            " |      Return self^value.\n",
            " |  \n",
            " |  add(...)\n",
            " |      Add an element to a set.\n",
            " |      \n",
            " |      This has no effect if the element is already present.\n",
            " |  \n",
            " |  clear(...)\n",
            " |      Remove all elements from this set.\n",
            " |  \n",
            " |  copy(...)\n",
            " |      Return a shallow copy of a set.\n",
            " |  \n",
            " |  difference(...)\n",
            " |      Return the difference of two or more sets as a new set.\n",
            " |      \n",
            " |      (i.e. all elements that are in this set but not the others.)\n",
            " |  \n",
            " |  difference_update(...)\n",
            " |      Remove all elements of another set from this set.\n",
            " |  \n",
            " |  discard(...)\n",
            " |      Remove an element from a set if it is a member.\n",
            " |      \n",
            " |      If the element is not a member, do nothing.\n",
            " |  \n",
            " |  intersection(...)\n",
            " |      Return the intersection of two sets as a new set.\n",
            " |      \n",
            " |      (i.e. all elements that are in both sets.)\n",
            " |  \n",
            " |  intersection_update(...)\n",
            " |      Update a set with the intersection of itself and another.\n",
            " |  \n",
            " |  isdisjoint(...)\n",
            " |      Return True if two sets have a null intersection.\n",
            " |  \n",
            " |  issubset(...)\n",
            " |      Report whether another set contains this set.\n",
            " |  \n",
            " |  issuperset(...)\n",
            " |      Report whether this set contains another set.\n",
            " |  \n",
            " |  pop(...)\n",
            " |      Remove and return an arbitrary set element.\n",
            " |      Raises KeyError if the set is empty.\n",
            " |  \n",
            " |  remove(...)\n",
            " |      Remove an element from a set; it must be a member.\n",
            " |      \n",
            " |      If the element is not a member, raise a KeyError.\n",
            " |  \n",
            " |  symmetric_difference(...)\n",
            " |      Return the symmetric difference of two sets as a new set.\n",
            " |      \n",
            " |      (i.e. all elements that are in exactly one of the sets.)\n",
            " |  \n",
            " |  symmetric_difference_update(...)\n",
            " |      Update a set with the symmetric difference of itself and another.\n",
            " |  \n",
            " |  union(...)\n",
            " |      Return the union of sets as a new set.\n",
            " |      \n",
            " |      (i.e. all elements that are in either set.)\n",
            " |  \n",
            " |  update(...)\n",
            " |      Update a set with the union of itself and others.\n",
            " |  \n",
            " |  ----------------------------------------------------------------------\n",
            " |  Data and other attributes defined here:\n",
            " |  \n",
            " |  __hash__ = None\n",
            "\n"
          ],
          "name": "stdout"
        }
      ]
    },
    {
      "cell_type": "code",
      "metadata": {
        "id": "lHq20dvlAzFf",
        "colab_type": "code",
        "outputId": "6446ce68-3185-4ae6-86c4-1eb4263e2616",
        "colab": {
          "base_uri": "https://localhost:8080/",
          "height": 69
        }
      },
      "source": [
        "# Output\n",
        "\n",
        "a = 10\n",
        "\n",
        "print (\"The value of a is \", a)\n",
        "print(\"The value of a is\" + str(a))\n",
        "print(\" The value of a is {} \".format(a*100))"
      ],
      "execution_count": 0,
      "outputs": [
        {
          "output_type": "stream",
          "text": [
            "The value of a is  10\n",
            "The value of a is10\n",
            " The value of a is 1000 \n"
          ],
          "name": "stdout"
        }
      ]
    },
    {
      "cell_type": "code",
      "metadata": {
        "id": "45qqgILkBodl",
        "colab_type": "code",
        "outputId": "323fc0c1-5e03-429f-896c-2d96f04fc09f",
        "colab": {
          "base_uri": "https://localhost:8080/",
          "height": 52
        }
      },
      "source": [
        "#Input formats\n",
        "\n",
        "\n",
        "\n",
        "#raw_input and input\n",
        "#python 2.7 bugs\n",
        "\n",
        "def bankDetails():\n",
        "   \"\"\"\n",
        "   retieves information about the bank account\n",
        "   \"\"\"\n",
        "   print(\"Sensitive Data\")\n",
        "  \n",
        "\n",
        "accNum = input(\"Enter the account number \")\n",
        "print (type(accNum))\n",
        "\n",
        "# Change to Python2 call the function and provide the input bankDetails() in the interpreter\n",
        "# It wil show as a function."
      ],
      "execution_count": 0,
      "outputs": [
        {
          "output_type": "stream",
          "text": [
            "Enter the account number bankDetails()\n",
            "<class 'str'>\n"
          ],
          "name": "stdout"
        }
      ]
    },
    {
      "cell_type": "code",
      "metadata": {
        "id": "Rvfujk7yCgQ7",
        "colab_type": "code",
        "outputId": "7063f1d9-aea7-4277-a60d-ccf57be571de",
        "colab": {
          "base_uri": "https://localhost:8080/",
          "height": 34
        }
      },
      "source": [
        "\n",
        "a,b,c = 20,30,50\n",
        "\n",
        "#max = a >b ?(a>c ?a:(b>c?b:c)):''\n",
        "if(a>b and a>c):\n",
        "  print(a)\n",
        "elif(b>c and b>a):\n",
        "  print(b)\n",
        "elif(c>a and c>b):\n",
        "  print(c)"
      ],
      "execution_count": 0,
      "outputs": [
        {
          "output_type": "stream",
          "text": [
            "50\n"
          ],
          "name": "stdout"
        }
      ]
    },
    {
      "cell_type": "code",
      "metadata": {
        "id": "uLq8VseIFVel",
        "colab_type": "code",
        "outputId": "55158551-7c9c-43e7-f022-206d1fe32326",
        "colab": {
          "base_uri": "https://localhost:8080/",
          "height": 69
        }
      },
      "source": [
        "#Dictionary\n",
        "d = {a:\"car\",b :\"door\"}\n",
        "\n",
        "print(d)\n",
        "\n",
        "for keys in d:\n",
        "  print(d[keys])"
      ],
      "execution_count": 0,
      "outputs": [
        {
          "output_type": "stream",
          "text": [
            "{20: 'car', 30: 'door'}\n",
            "car\n",
            "door\n"
          ],
          "name": "stdout"
        }
      ]
    },
    {
      "cell_type": "code",
      "metadata": {
        "id": "-x-0nxBZF8Vs",
        "colab_type": "code",
        "outputId": "1080b2a6-4b24-4a9c-e752-f94960dc4d63",
        "colab": {
          "base_uri": "https://localhost:8080/",
          "height": 52
        }
      },
      "source": [
        "#While with else\n",
        "numbers =[1,2,3,4,5,6]\n",
        "index = 0\n",
        "\n",
        "while index < len(numbers):\n",
        "  print(numbers[index])\n",
        "  index=100\n",
        "  index+=1 \n",
        "else:\n",
        "  print(\"no item left in the list\")\n",
        "  \n",
        "#Else is like finally in Java. executes even if exception occours."
      ],
      "execution_count": 0,
      "outputs": [
        {
          "output_type": "stream",
          "text": [
            "1\n",
            "no item left in the list\n"
          ],
          "name": "stdout"
        }
      ]
    },
    {
      "cell_type": "code",
      "metadata": {
        "id": "kdhVipeYHPyc",
        "colab_type": "code",
        "outputId": "95111a99-9061-4061-e426-fb266e3ff73e",
        "colab": {
          "base_uri": "https://localhost:8080/",
          "height": 139
        }
      },
      "source": [
        "#For loop variants\n",
        "# For in range\n",
        "for i in range (0, 20, 5): #range (start, end, step)\n",
        "  print(i) \n",
        "print(\"second loop\")\n",
        "  \n",
        "for i in range (30, 20, -5): #range (start, end, step)\n",
        "  print(i) "
      ],
      "execution_count": 0,
      "outputs": [
        {
          "output_type": "stream",
          "text": [
            "0\n",
            "5\n",
            "10\n",
            "15\n",
            "second loop\n",
            "30\n",
            "25\n"
          ],
          "name": "stdout"
        }
      ]
    },
    {
      "cell_type": "markdown",
      "metadata": {
        "id": "m5v86z0hH4qg",
        "colab_type": "text"
      },
      "source": [
        "Simple program to print all the prime numbers within an interval"
      ]
    },
    {
      "cell_type": "code",
      "metadata": {
        "id": "WtBfr9bKH9s3",
        "colab_type": "code",
        "outputId": "78576663-eefa-4e27-a5e3-e15f21787794",
        "colab": {
          "base_uri": "https://localhost:8080/",
          "height": 260
        }
      },
      "source": [
        "low = int(input(\"Enter the lower limit \"))\n",
        "high = int(input (\"Enter the higher limit \" ))\n",
        "\n",
        "\n",
        "for i in range (low, high+1):\n",
        "  if(i <= 2):\n",
        "    print (i)\n",
        "  else:\n",
        "    for j in range(2, i):\n",
        "      if(i%j == 0):\n",
        "        break\n",
        "      print (i)"
      ],
      "execution_count": 0,
      "outputs": [
        {
          "output_type": "stream",
          "text": [
            "Enter the lower limit 1\n",
            "Enter the higher limit 10\n",
            "1\n",
            "2\n",
            "3\n",
            "5\n",
            "5\n",
            "5\n",
            "7\n",
            "7\n",
            "7\n",
            "7\n",
            "7\n",
            "9\n"
          ],
          "name": "stdout"
        }
      ]
    },
    {
      "cell_type": "code",
      "metadata": {
        "id": "yYzA2bOuKoMM",
        "colab_type": "code",
        "outputId": "aec45bce-e0e0-45d0-f7c7-98e0254b65b9",
        "colab": {
          "base_uri": "https://localhost:8080/",
          "height": 52
        }
      },
      "source": [
        "# Tuple Play Ground\n",
        "# Python considers this as a statement\n",
        "t = (1)\n",
        "t = (1+2)\n",
        "\n",
        "t = (1 ,) # t is a tuple\n",
        "\n",
        "a=[1,2,3]\n",
        "\n",
        "t = (1, (1,2,3), a)\n",
        "\n",
        "print (t)\n",
        "\n",
        "a = [2,3,4]\n",
        "\n",
        "print (t) #tuple is immuatble"
      ],
      "execution_count": 0,
      "outputs": [
        {
          "output_type": "stream",
          "text": [
            "(1, (1, 2, 3), [1, 2, 3])\n",
            "(1, (1, 2, 3), [1, 2, 3])\n"
          ],
          "name": "stdout"
        }
      ]
    },
    {
      "cell_type": "markdown",
      "metadata": {
        "id": "UfH0OFChL2q5",
        "colab_type": "text"
      },
      "source": [
        "Python program to check if a string is a palindrome or not"
      ]
    },
    {
      "cell_type": "code",
      "metadata": {
        "id": "I5tySbqxL-0N",
        "colab_type": "code",
        "colab": {}
      },
      "source": [
        "str =  input (\"Enter the string\")\n",
        "\n",
        "j = len(str)-1;\n",
        "\n",
        "for i in range(0, len(str)):\n",
        "  if(str[i] != str[j]):\n",
        "    print (\"Not a palindrome\")\n",
        "    break\n"
      ],
      "execution_count": 0,
      "outputs": []
    },
    {
      "cell_type": "markdown",
      "metadata": {
        "id": "IMBx_PGJMk7H",
        "colab_type": "text"
      },
      "source": [
        "Print Fibonacci Series in recursion"
      ]
    },
    {
      "cell_type": "code",
      "metadata": {
        "id": "xaXYzLLiMkil",
        "colab_type": "code",
        "colab": {}
      },
      "source": [
        "def fibonacci(n):\n",
        "  if( n<= 1):\n",
        "    return 1\n",
        "  else:\n",
        "    return(fibonacci(n-1) + fibonacci(n-2))\n",
        " "
      ],
      "execution_count": 0,
      "outputs": []
    },
    {
      "cell_type": "code",
      "metadata": {
        "id": "MqUOxeu3M7gQ",
        "colab_type": "code",
        "outputId": "118f5767-5c33-4f8f-e13d-a269dce864ce",
        "colab": {
          "base_uri": "https://localhost:8080/",
          "height": 52
        }
      },
      "source": [
        "def fib_n(n):\n",
        "  \"\"\"\n",
        "  prints the fibonaccu elements upto n\n",
        "  \"\"\"\n",
        "  l = []\n",
        "  for i in range(n):\n",
        "    l.append(fibonacci(i))\n",
        "  print(l)\n",
        "  \n",
        "  \n",
        "n = int(input(\"Enter the number \"))\n",
        "fib_n(n)\n",
        "#print (fib_n.__doc__)"
      ],
      "execution_count": 0,
      "outputs": [
        {
          "output_type": "stream",
          "text": [
            "Enter the number 10\n",
            "[1, 1, 2, 3, 5, 8, 13, 21, 34, 55]\n"
          ],
          "name": "stdout"
        }
      ]
    },
    {
      "cell_type": "markdown",
      "metadata": {
        "id": "01IaQe3sSkT4",
        "colab_type": "text"
      },
      "source": [
        "# Neumerical Python - Numpy"
      ]
    },
    {
      "cell_type": "code",
      "metadata": {
        "id": "g79QWiBESqzG",
        "colab_type": "code",
        "colab": {}
      },
      "source": [
        "#Import the modules\n",
        "import numpy as np\n",
        "import matplotlib.pyplot as plt\n",
        "\n",
        "#percentages of men selected for each course\n",
        "percentage_men = np.array([0.62, 0.63, 0.37, 0.33, 0.28, 0.06])\n",
        "\n",
        "#number of women selected for each coursej\n"
      ],
      "execution_count": 0,
      "outputs": []
    },
    {
      "cell_type": "code",
      "metadata": {
        "id": "Ukt2Ui2_V4nL",
        "colab_type": "code",
        "outputId": "21de9704-cf0d-4db1-8341-7b298d9896c0",
        "colab": {
          "base_uri": "https://localhost:8080/",
          "height": 69
        }
      },
      "source": [
        "from scipy import stats\n",
        "\n",
        "#List of Ages\n",
        "ages = [10, 15, 11,11,23,34,96]\n",
        "\n",
        "#Mean of the ages\n",
        "print(\"Mean of the ages is {}\".format(np.mean(ages)))\n",
        "#Median of the ages\n",
        "print(\"Median of the ages is {}\".format(np.median(ages)))\n",
        "#Mode of the ages\n",
        "print(\"Mean of the ages is {}\".format(stats.mode(ages).mode))"
      ],
      "execution_count": 0,
      "outputs": [
        {
          "output_type": "stream",
          "text": [
            "Mean of the ages is 28.571428571428573\n",
            "Median of the ages is 15.0\n",
            "Mean of the ages is [11]\n"
          ],
          "name": "stdout"
        }
      ]
    },
    {
      "cell_type": "code",
      "metadata": {
        "id": "AnjxtqWrYAhS",
        "colab_type": "code",
        "outputId": "33d72ec0-b5bb-4cc8-b6a6-818037eb40ab",
        "colab": {
          "base_uri": "https://localhost:8080/",
          "height": 206
        }
      },
      "source": [
        "#Seaborn\n",
        "import seaborn as sns\n",
        "\n",
        "#load the iris data set\n",
        "iris = sns.load_dataset(\"iris\")\n",
        "\n",
        "#Head of the dataset\n",
        "iris.head()\n",
        "\n",
        "#tails\n",
        "#iris.tail()"
      ],
      "execution_count": 0,
      "outputs": [
        {
          "output_type": "execute_result",
          "data": {
            "text/html": [
              "<div>\n",
              "<style scoped>\n",
              "    .dataframe tbody tr th:only-of-type {\n",
              "        vertical-align: middle;\n",
              "    }\n",
              "\n",
              "    .dataframe tbody tr th {\n",
              "        vertical-align: top;\n",
              "    }\n",
              "\n",
              "    .dataframe thead th {\n",
              "        text-align: right;\n",
              "    }\n",
              "</style>\n",
              "<table border=\"1\" class=\"dataframe\">\n",
              "  <thead>\n",
              "    <tr style=\"text-align: right;\">\n",
              "      <th></th>\n",
              "      <th>sepal_length</th>\n",
              "      <th>sepal_width</th>\n",
              "      <th>petal_length</th>\n",
              "      <th>petal_width</th>\n",
              "      <th>species</th>\n",
              "    </tr>\n",
              "  </thead>\n",
              "  <tbody>\n",
              "    <tr>\n",
              "      <th>0</th>\n",
              "      <td>5.1</td>\n",
              "      <td>3.5</td>\n",
              "      <td>1.4</td>\n",
              "      <td>0.2</td>\n",
              "      <td>setosa</td>\n",
              "    </tr>\n",
              "    <tr>\n",
              "      <th>1</th>\n",
              "      <td>4.9</td>\n",
              "      <td>3.0</td>\n",
              "      <td>1.4</td>\n",
              "      <td>0.2</td>\n",
              "      <td>setosa</td>\n",
              "    </tr>\n",
              "    <tr>\n",
              "      <th>2</th>\n",
              "      <td>4.7</td>\n",
              "      <td>3.2</td>\n",
              "      <td>1.3</td>\n",
              "      <td>0.2</td>\n",
              "      <td>setosa</td>\n",
              "    </tr>\n",
              "    <tr>\n",
              "      <th>3</th>\n",
              "      <td>4.6</td>\n",
              "      <td>3.1</td>\n",
              "      <td>1.5</td>\n",
              "      <td>0.2</td>\n",
              "      <td>setosa</td>\n",
              "    </tr>\n",
              "    <tr>\n",
              "      <th>4</th>\n",
              "      <td>5.0</td>\n",
              "      <td>3.6</td>\n",
              "      <td>1.4</td>\n",
              "      <td>0.2</td>\n",
              "      <td>setosa</td>\n",
              "    </tr>\n",
              "  </tbody>\n",
              "</table>\n",
              "</div>"
            ],
            "text/plain": [
              "   sepal_length  sepal_width  petal_length  petal_width species\n",
              "0           5.1          3.5           1.4          0.2  setosa\n",
              "1           4.9          3.0           1.4          0.2  setosa\n",
              "2           4.7          3.2           1.3          0.2  setosa\n",
              "3           4.6          3.1           1.5          0.2  setosa\n",
              "4           5.0          3.6           1.4          0.2  setosa"
            ]
          },
          "metadata": {
            "tags": []
          },
          "execution_count": 74
        }
      ]
    },
    {
      "cell_type": "code",
      "metadata": {
        "id": "L16FYxlQaOm3",
        "colab_type": "code",
        "outputId": "b702583b-5df9-41b7-9474-5dbc50775865",
        "colab": {
          "base_uri": "https://localhost:8080/",
          "height": 34
        }
      },
      "source": [
        "print (np.mean(iris.sepal_length))"
      ],
      "execution_count": 0,
      "outputs": [
        {
          "output_type": "stream",
          "text": [
            "5.843333333333335\n"
          ],
          "name": "stdout"
        }
      ]
    },
    {
      "cell_type": "code",
      "metadata": {
        "id": "szYbO1vKajnj",
        "colab_type": "code",
        "colab": {}
      },
      "source": [
        "plt.style.use('seaborn-white')\n",
        "\n",
        "data = np.random.normal(size=1000)\n",
        "       "
      ],
      "execution_count": 0,
      "outputs": []
    },
    {
      "cell_type": "markdown",
      "metadata": {
        "id": "ni0yWabxdA21",
        "colab_type": "text"
      },
      "source": [
        "# Inferencial Statistics"
      ]
    },
    {
      "cell_type": "code",
      "metadata": {
        "id": "atELeE05dE1i",
        "colab_type": "code",
        "outputId": "495ee55e-86b2-43f1-e424-b7b0e69fc69c",
        "colab": {
          "base_uri": "https://localhost:8080/",
          "height": 34
        }
      },
      "source": [
        "expected = np.array([20, 20, 30, 40, 60, 30])\n",
        "observed = np.array([30, 14, 34, 45, 57, 20])\n",
        "\n",
        "obs_expec_squared = [np.square(o-e)/e for o,e in zip(observed, expected)]\n",
        "\n",
        "np.sum(obs_expec_squared)"
      ],
      "execution_count": 0,
      "outputs": [
        {
          "output_type": "execute_result",
          "data": {
            "text/plain": [
              "11.441666666666666"
            ]
          },
          "metadata": {
            "tags": []
          },
          "execution_count": 79
        }
      ]
    }
  ]
}